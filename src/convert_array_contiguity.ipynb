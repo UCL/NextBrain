{
 "cells": [
  {
   "cell_type": "code",
   "execution_count": 105,
   "metadata": {},
   "outputs": [],
   "source": [
    "import numpy as np\n",
    "import os, os.path"
   ]
  },
  {
   "cell_type": "code",
   "execution_count": 107,
   "metadata": {},
   "outputs": [],
   "source": [
    "# currently existing path containing all of the npy arrays\n",
    "path = \"../react-ui/src/assets/P57-16/mri/indices_axial\""
   ]
  },
  {
   "cell_type": "code",
   "execution_count": 109,
   "metadata": {},
   "outputs": [],
   "source": [
    "# create a directory to hold the converted npy arrays\n",
    "os.mkdir('indices_axial_C_order')"
   ]
  },
  {
   "cell_type": "code",
   "execution_count": 110,
   "metadata": {},
   "outputs": [],
   "source": [
    "# converts a numpy array to C contiguous order\n",
    "def convert_npy_array_order(path_to_file):\n",
    "    npy_file = path_to_file\n",
    "    npy_slice_array = np.load(npy_file)\n",
    "    #print(np.isfortran(npy_slice_array))\n",
    "    if np.isfortran(npy_slice_array): \n",
    "        npy_C_order = np.ascontiguousarray(npy_slice_array)\n",
    "        return npy_C_order\n",
    "    else:\n",
    "        print(\"not in fortran order\")"
   ]
  },
  {
   "cell_type": "code",
   "execution_count": 111,
   "metadata": {},
   "outputs": [],
   "source": [
    "directory = path\n",
    "\n",
    "for file in os.listdir(directory):\n",
    "    filename = os.fsdecode(file)\n",
    "    if filename.endswith(\".npy\"): \n",
    "        #print(filename)\n",
    "        #print(os.path.join(directory, str(filename)))\n",
    "        #path_to_file = os.path.join(directory, str(filename))\n",
    "        \n",
    "        npy_C_order = convert_npy_array_order(path_to_file)\n",
    "        #print(np.isfortran(npy_C_order))        \n",
    "        np.save('indices_axial_C_order/' + filename, npy_C_order)\n",
    "        continue\n",
    "    else:\n",
    "        continue"
   ]
  },
  {
   "cell_type": "code",
   "execution_count": 81,
   "metadata": {},
   "outputs": [],
   "source": [
    "# now that the files have been converted we load in an example to check it\n",
    "converted_npy_file = \"../react-ui/src/assets/P57-16/mri/indices_axial_C_order/slice_149.npy\""
   ]
  },
  {
   "cell_type": "code",
   "execution_count": 82,
   "metadata": {},
   "outputs": [
    {
     "name": "stdout",
     "output_type": "stream",
     "text": [
      "False\n",
      "(224, 448)\n"
     ]
    }
   ],
   "source": [
    "npy_slice_array = np.load(converted_npy_file)\n",
    "\n",
    "print(np.isfortran(npy_slice_array)) # checks that the array is NOT in fortran order\n",
    "print(npy_slice_array.shape)"
   ]
  },
  {
   "cell_type": "code",
   "execution_count": 92,
   "metadata": {},
   "outputs": [
    {
     "name": "stdout",
     "output_type": "stream",
     "text": [
      "24\n"
     ]
    }
   ],
   "source": [
    "block = npy_slice_array[51][110]\n",
    "print(block)"
   ]
  },
  {
   "cell_type": "code",
   "execution_count": null,
   "metadata": {},
   "outputs": [],
   "source": []
  }
 ],
 "metadata": {
  "kernelspec": {
   "display_name": "Python 3",
   "language": "python",
   "name": "python3"
  },
  "language_info": {
   "codemirror_mode": {
    "name": "ipython",
    "version": 3
   },
   "file_extension": ".py",
   "mimetype": "text/x-python",
   "name": "python",
   "nbconvert_exporter": "python",
   "pygments_lexer": "ipython3",
   "version": "3.8.3"
  }
 },
 "nbformat": 4,
 "nbformat_minor": 5
}
