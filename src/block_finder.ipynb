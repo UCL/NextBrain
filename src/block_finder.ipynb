{
 "cells": [
  {
   "cell_type": "code",
   "execution_count": 134,
   "id": "communist-academy",
   "metadata": {},
   "outputs": [],
   "source": [
    "import numpy as np\n",
    "import os, os.path\n",
    "import matplotlib.image as matlib"
   ]
  },
  {
   "cell_type": "code",
   "execution_count": 135,
   "id": "economic-premiere",
   "metadata": {},
   "outputs": [],
   "source": [
    "'''\n",
    "Test co-ordinates\n",
    "x = 99, y = 212, z = 127 (== slice in axial)\n",
    "expected block value = 33\n",
    "\n",
    "x = 60, y = 273, z = 186 (== slice in axial)\n",
    "expected block value = 45\n",
    "'''\n",
    "\n",
    "set1 = [99, 212, 127]\n",
    "expectedValue1 = 33\n",
    "set2 = [60, 273, 186]\n",
    "expectedValue2 = 45\n",
    "set3 = [82, 207, 246]\n",
    "expectedValue3 = 2"
   ]
  },
  {
   "cell_type": "code",
   "execution_count": 136,
   "id": "twelve-landing",
   "metadata": {},
   "outputs": [],
   "source": [
    "def getNumpyForSlice(slice, isRotated):\n",
    "    mri = \"mri\"\n",
    "    if isRotated:\n",
    "        mri = \"mri_rotated\"\n",
    "    \n",
    "    npy_file = \"../react-ui/src/assets/P57-16/\" + mri + \"/indices_axial/slice_\" + str(slice) + \".npy\"\n",
    "    array = np.load(npy_file)\n",
    "    return array"
   ]
  },
  {
   "cell_type": "code",
   "execution_count": 137,
   "id": "knowing-seller",
   "metadata": {},
   "outputs": [],
   "source": [
    "def rotatedXY(x,y,npy_array):\n",
    "    center =  (np.array(npy_array.shape) - 1)/2\n",
    "    x_rot = (-y + 2 * center[1]).astype('int')\n",
    "    y_rot = (2*center[0] - x).astype('int')    \n",
    "    return x_rot, y_rot\n",
    "\n",
    "def invrotateXY(x,y,npy_array):\n",
    "    center = (np.array(npy_array.shape) -1) / 2 \n",
    "    x2 = (-y + 2 * center[1]).astype('int')\n",
    "    y2 = (-x + 2 * center[0]).astype('int')\n",
    "    return x2,y2    "
   ]
  },
  {
   "cell_type": "code",
   "execution_count": 138,
   "id": "refined-ethnic",
   "metadata": {},
   "outputs": [],
   "source": [
    "def checkDimensions(x, y, npy_array):\n",
    "    npy_shape = npy_array.shape\n",
    "    if x < npy_shape[0] and y < npy_shape[1]:\n",
    "        return True\n",
    "    return False\n",
    "    \n",
    "\n",
    "def testSet(coordinates, rotateXY, isRotated, invRotate=False):\n",
    "    slice = coordinates[2]\n",
    "    npy_array = getNumpyForSlice(slice, isRotated)\n",
    "    x = coordinates[0]\n",
    "    y = coordinates[1]\n",
    "    inverted = False\n",
    "    block = -99\n",
    "\n",
    "    if checkDimensions(x,y,npy_array):\n",
    "        print(\"*** within bounds ***\")\n",
    "        block = npy_array[x, y]\n",
    "    elif checkDimensions(y,x,npy_array):\n",
    "        print(\"*** inverted within bounds ***\")\n",
    "        block = npy_array[y,x]\n",
    "                \n",
    "    if rotateXY:\n",
    "        block = -99\n",
    "        xr,yr = rotatedXY(coordinates[0], coordinates[1], npy_array)\n",
    "        if invRotate:\n",
    "            xr, yr = invrotateXY(coordinates[0], coordinates[1], npy_array)\n",
    "        if checkDimensions(xr,yr,npy_array):\n",
    "            print(\"---> rotated within bounds <----\")\n",
    "            block = npy_array[xr, yr]\n",
    "        elif checkDimensions(yr,xr,npy_array):\n",
    "            block = npy_array[yr,xr]\n",
    "            print(\"---> rotated/inverted within bounds <----\")\n",
    "            \n",
    "\n",
    "    return block "
   ]
  },
  {
   "cell_type": "code",
   "execution_count": 139,
   "id": "according-surprise",
   "metadata": {},
   "outputs": [
    {
     "name": "stdout",
     "output_type": "stream",
     "text": [
      "*** No X,Y rotation; mri folder. \n",
      "*** within bounds ***\n",
      "*** within bounds ***\n",
      "*** within bounds ***\n",
      "mri/not zero count: block_set1=33 block_set2=45 block_set3=2\n",
      "\n",
      "*** No X,Y rotation; mri_rotated folder. \n",
      "*** within bounds ***\n",
      "*** inverted within bounds ***\n",
      "*** within bounds ***\n",
      "mri_rotated/not zero count: block_set1=0 block_set2=5 block_set3=0\n",
      "\n",
      "*** X,Y rotation; mri_rotated folder. \n",
      "*** within bounds ***\n",
      "---> rotated/inverted within bounds <----\n",
      "*** inverted within bounds ***\n",
      "---> rotated/inverted within bounds <----\n",
      "*** within bounds ***\n",
      "---> rotated/inverted within bounds <----\n",
      "mri_rotated/non zero count/xy trafo: block_set1=0 block_set2=0 block_set3=0\n",
      "\n",
      "*** X,Y rotation; mri folder. \n",
      "*** within bounds ***\n",
      "---> rotated/inverted within bounds <----\n",
      "*** within bounds ***\n",
      "---> rotated within bounds <----\n",
      "*** within bounds ***\n",
      "---> rotated/inverted within bounds <----\n",
      "mri_rotated/non zero count/xy trafo: block_set1=45 block_set2=5 block_set3=17\n",
      "\n",
      "*** X,Y rotation; mri_rotated folder. inv rotate \n",
      "*** within bounds ***\n"
     ]
    },
    {
     "ename": "IndexError",
     "evalue": "only integers, slices (`:`), ellipsis (`...`), numpy.newaxis (`None`) and integer or boolean arrays are valid indices",
     "output_type": "error",
     "traceback": [
      "\u001b[0;31m---------------------------------------------------------------------------\u001b[0m",
      "\u001b[0;31mIndexError\u001b[0m                                Traceback (most recent call last)",
      "\u001b[0;32m<ipython-input-139-81b3873458a9>\u001b[0m in \u001b[0;36m<module>\u001b[0;34m\u001b[0m\n\u001b[1;32m     33\u001b[0m \u001b[0;31m# X,Y rotation; mri_rotated folder. inv rotate\u001b[0m\u001b[0;34m\u001b[0m\u001b[0;34m\u001b[0m\u001b[0;34m\u001b[0m\u001b[0m\n\u001b[1;32m     34\u001b[0m \u001b[0mprint\u001b[0m\u001b[0;34m(\u001b[0m\u001b[0;34m\"*** X,Y rotation; mri_rotated folder. inv rotate \"\u001b[0m\u001b[0;34m)\u001b[0m\u001b[0;34m\u001b[0m\u001b[0;34m\u001b[0m\u001b[0m\n\u001b[0;32m---> 35\u001b[0;31m \u001b[0mblock1_tr_r_nz\u001b[0m \u001b[0;34m=\u001b[0m \u001b[0mtestSet\u001b[0m\u001b[0;34m(\u001b[0m\u001b[0mset1\u001b[0m\u001b[0;34m,\u001b[0m \u001b[0;32mTrue\u001b[0m\u001b[0;34m,\u001b[0m \u001b[0;32mTrue\u001b[0m\u001b[0;34m,\u001b[0m \u001b[0;32mTrue\u001b[0m\u001b[0;34m)\u001b[0m\u001b[0;34m\u001b[0m\u001b[0;34m\u001b[0m\u001b[0m\n\u001b[0m\u001b[1;32m     36\u001b[0m \u001b[0mblock2_tr_r_nz\u001b[0m \u001b[0;34m=\u001b[0m \u001b[0mtestSet\u001b[0m\u001b[0;34m(\u001b[0m\u001b[0mset2\u001b[0m\u001b[0;34m,\u001b[0m \u001b[0;32mTrue\u001b[0m\u001b[0;34m,\u001b[0m \u001b[0;32mTrue\u001b[0m\u001b[0;34m,\u001b[0m \u001b[0;32mTrue\u001b[0m\u001b[0;34m)\u001b[0m\u001b[0;34m\u001b[0m\u001b[0;34m\u001b[0m\u001b[0m\n\u001b[1;32m     37\u001b[0m \u001b[0mblock3_tr_r_nz\u001b[0m \u001b[0;34m=\u001b[0m \u001b[0mtestSet\u001b[0m\u001b[0;34m(\u001b[0m\u001b[0mset3\u001b[0m\u001b[0;34m,\u001b[0m \u001b[0;32mTrue\u001b[0m\u001b[0;34m,\u001b[0m \u001b[0;32mTrue\u001b[0m\u001b[0;34m,\u001b[0m \u001b[0;32mTrue\u001b[0m\u001b[0;34m)\u001b[0m\u001b[0;34m\u001b[0m\u001b[0;34m\u001b[0m\u001b[0m\n",
      "\u001b[0;32m<ipython-input-138-0893bffa73ab>\u001b[0m in \u001b[0;36mtestSet\u001b[0;34m(coordinates, rotateXY, isRotated, invRotate)\u001b[0m\n\u001b[1;32m     30\u001b[0m             \u001b[0mblock\u001b[0m \u001b[0;34m=\u001b[0m \u001b[0mnpy_array\u001b[0m\u001b[0;34m[\u001b[0m\u001b[0mxr\u001b[0m\u001b[0;34m,\u001b[0m \u001b[0myr\u001b[0m\u001b[0;34m]\u001b[0m\u001b[0;34m\u001b[0m\u001b[0;34m\u001b[0m\u001b[0m\n\u001b[1;32m     31\u001b[0m         \u001b[0;32melif\u001b[0m \u001b[0mcheckDimensions\u001b[0m\u001b[0;34m(\u001b[0m\u001b[0myr\u001b[0m\u001b[0;34m,\u001b[0m\u001b[0mxr\u001b[0m\u001b[0;34m,\u001b[0m\u001b[0mnpy_array\u001b[0m\u001b[0;34m)\u001b[0m\u001b[0;34m:\u001b[0m\u001b[0;34m\u001b[0m\u001b[0;34m\u001b[0m\u001b[0m\n\u001b[0;32m---> 32\u001b[0;31m             \u001b[0mblock\u001b[0m \u001b[0;34m=\u001b[0m \u001b[0mnpy_array\u001b[0m\u001b[0;34m[\u001b[0m\u001b[0myr\u001b[0m\u001b[0;34m,\u001b[0m\u001b[0mxr\u001b[0m\u001b[0;34m]\u001b[0m\u001b[0;34m\u001b[0m\u001b[0;34m\u001b[0m\u001b[0m\n\u001b[0m\u001b[1;32m     33\u001b[0m             \u001b[0mprint\u001b[0m\u001b[0;34m(\u001b[0m\u001b[0;34m\"---> rotated/inverted within bounds <----\"\u001b[0m\u001b[0;34m)\u001b[0m\u001b[0;34m\u001b[0m\u001b[0;34m\u001b[0m\u001b[0m\n\u001b[1;32m     34\u001b[0m \u001b[0;34m\u001b[0m\u001b[0m\n",
      "\u001b[0;31mIndexError\u001b[0m: only integers, slices (`:`), ellipsis (`...`), numpy.newaxis (`None`) and integer or boolean arrays are valid indices"
     ]
    }
   ],
   "source": [
    "\n",
    "\n",
    "\n",
    "\n",
    "# No X,Y rotation; mri folder.  \n",
    "print(\"*** No X,Y rotation; mri folder. \")\n",
    "block1_nr_nz = testSet(set1, False, False)\n",
    "block2_nr_nz = testSet(set2, False, False)\n",
    "block3_nr_nz = testSet(set3, False, False)\n",
    "\n",
    "print(\"mri/not zero count: block_set1={} block_set2={} block_set3={}\\n\".format(block1_nr_nz,block2_nr_nz,block3_nr_nz))\n",
    "\n",
    "# No X,Y rotation; mri_rotated folder.  \n",
    "print(\"*** No X,Y rotation; mri_rotated folder. \")\n",
    "block1_r_nz = testSet(set1, False, True)\n",
    "block2_r_nz = testSet(set2, False, True)\n",
    "block3_r_nz = testSet(set3, False, True)\n",
    "print(\"mri_rotated/not zero count: block_set1={} block_set2={} block_set3={}\\n\".format(block1_r_nz,block2_r_nz,block3_r_nz))\n",
    "\n",
    "\n",
    "# X,Y rotation; mri_rotated folder.  \n",
    "print(\"*** X,Y rotation; mri_rotated folder. \")\n",
    "block1_tr_r_nz = testSet(set1, True, True)\n",
    "block2_tr_r_nz = testSet(set2, True, True)\n",
    "block3_tr_r_nz = testSet(set3, True, True)\n",
    "\n",
    "print(\"mri_rotated/non zero count/xy trafo: block_set1={} block_set2={} block_set3={}\\n\".format(block1_tr_r_nz,block2_tr_r_nz,block3_tr_r_nz))\n",
    "\n",
    "# X,Y rotation; mri folder.  \n",
    "print(\"*** X,Y rotation; mri folder. \")\n",
    "block1_tr_r_nz = testSet(set1, True, False)\n",
    "block2_tr_r_nz = testSet(set2, True, False)\n",
    "block3_tr_r_nz = testSet(set3, True, False)\n",
    "\n",
    "print(\"mri_rotated/non zero count/xy trafo: block_set1={} block_set2={} block_set3={}\\n\".format(block1_tr_r_nz,block2_tr_r_nz,block3_tr_r_nz))\n",
    "\n",
    "# X,Y rotation; mri_rotated folder. inv rotate \n",
    "print(\"*** X,Y rotation; mri_rotated folder. inv rotate \")\n",
    "block1_tr_r_nz = testSet(set1, True, True, True)\n",
    "block2_tr_r_nz = testSet(set2, True, True, True)\n",
    "block3_tr_r_nz = testSet(set3, True, True, True)\n",
    "\n",
    "print(\"mri_rotated/non zero count/xy trafo: block_set1={} block_set2={} block_set3={}\\n\".format(block1_tr_r_nz,block2_tr_r_nz,block3_tr_r_nz))\n",
    "\n",
    "\n",
    "\n",
    "\n",
    "\n",
    "\n"
   ]
  },
  {
   "cell_type": "code",
   "execution_count": null,
   "id": "finite-council",
   "metadata": {},
   "outputs": [],
   "source": []
  },
  {
   "cell_type": "code",
   "execution_count": 150,
   "id": "waiting-friendship",
   "metadata": {},
   "outputs": [],
   "source": []
  },
  {
   "cell_type": "code",
   "execution_count": 151,
   "id": "corresponding-vaccine",
   "metadata": {},
   "outputs": [
    {
     "name": "stdout",
     "output_type": "stream",
     "text": [
      "value for rotated coordinates = 6\n"
     ]
    }
   ],
   "source": []
  },
  {
   "cell_type": "code",
   "execution_count": null,
   "id": "saving-delhi",
   "metadata": {},
   "outputs": [],
   "source": []
  }
 ],
 "metadata": {
  "kernelspec": {
   "display_name": "Python 3",
   "language": "python",
   "name": "python3"
  },
  "language_info": {
   "codemirror_mode": {
    "name": "ipython",
    "version": 3
   },
   "file_extension": ".py",
   "mimetype": "text/x-python",
   "name": "python",
   "nbconvert_exporter": "python",
   "pygments_lexer": "ipython3",
   "version": "3.7.9"
  }
 },
 "nbformat": 4,
 "nbformat_minor": 5
}
