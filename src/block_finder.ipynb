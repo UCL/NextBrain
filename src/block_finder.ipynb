{
 "cells": [
  {
   "cell_type": "code",
   "execution_count": 84,
   "id": "concerned-canberra",
   "metadata": {},
   "outputs": [],
   "source": [
    "import numpy as np\n",
    "import os, os.path\n",
    "import matplotlib.image as matlib"
   ]
  },
  {
   "cell_type": "code",
   "execution_count": 99,
   "id": "owned-andrew",
   "metadata": {},
   "outputs": [],
   "source": [
    "y = 92\n",
    "x = 299\n",
    "z = 127"
   ]
  },
  {
   "cell_type": "code",
   "execution_count": 100,
   "id": "international-motel",
   "metadata": {},
   "outputs": [],
   "source": [
    "slice_axial = \"../react-ui/src/assets/P57-16/mri_rotated/slices_axial/slice_\" + str(z) + \".png\""
   ]
  },
  {
   "cell_type": "code",
   "execution_count": 101,
   "id": "extraordinary-canal",
   "metadata": {},
   "outputs": [],
   "source": [
    "img = matlib.imread(slice_axial)"
   ]
  },
  {
   "cell_type": "code",
   "execution_count": 102,
   "id": "spread-observer",
   "metadata": {},
   "outputs": [],
   "source": [
    "npy_axial = \"../react-ui/src/assets/P57-16/mri_rotated/indices_axial/slice_\" + str(z) + \".npy\"\n",
    "npy_array = np.load(npy_axial)"
   ]
  },
  {
   "cell_type": "code",
   "execution_count": 103,
   "id": "immune-logistics",
   "metadata": {},
   "outputs": [
    {
     "name": "stdout",
     "output_type": "stream",
     "text": [
      "False\n",
      "(450, 226)\n",
      "value2 = 40\n"
     ]
    }
   ],
   "source": [
    "print(np.isfortran(npy_array))\n",
    "print(npy_array.shape)\n",
    "value2 = npy_array[x,y]\n",
    "print('value2 = {}'.format(value2))"
   ]
  },
  {
   "cell_type": "code",
   "execution_count": 91,
   "id": "swedish-least",
   "metadata": {},
   "outputs": [],
   "source": [
    "'''\n",
    "image rotation\n",
    "'''\n",
    "center =  (np.array(npy_array.shape) - 1)/2"
   ]
  },
  {
   "cell_type": "code",
   "execution_count": 92,
   "id": "active-buddy",
   "metadata": {},
   "outputs": [],
   "source": [
    "x_rot = (-y + 2 * center[1]).astype('int')\n",
    "y_rot = (2*center[0] - x).astype('int')"
   ]
  },
  {
   "cell_type": "code",
   "execution_count": 98,
   "id": "bronze-velvet",
   "metadata": {},
   "outputs": [
    {
     "name": "stdout",
     "output_type": "stream",
     "text": [
      "value for rotated coordinates = 28\n"
     ]
    }
   ],
   "source": [
    "v_rot_1 = npy_array[y_rot, x_rot]\n",
    "print('value for rotated coordinates = {}'.format(v_rot_1))"
   ]
  },
  {
   "cell_type": "code",
   "execution_count": null,
   "id": "confident-irish",
   "metadata": {},
   "outputs": [],
   "source": []
  }
 ],
 "metadata": {
  "kernelspec": {
   "display_name": "Python 3",
   "language": "python",
   "name": "python3"
  },
  "language_info": {
   "codemirror_mode": {
    "name": "ipython",
    "version": 3
   },
   "file_extension": ".py",
   "mimetype": "text/x-python",
   "name": "python",
   "nbconvert_exporter": "python",
   "pygments_lexer": "ipython3",
   "version": "3.7.9"
  }
 },
 "nbformat": 4,
 "nbformat_minor": 5
}
