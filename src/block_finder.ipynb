{
 "cells": [
  {
   "cell_type": "code",
   "execution_count": 51,
   "metadata": {},
   "outputs": [],
   "source": [
    "import numpy as np\n",
    "import os, os.path\n",
    "import matplotlib.image as matlib"
   ]
  },
  {
   "cell_type": "code",
   "execution_count": 784,
   "metadata": {},
   "outputs": [],
   "source": [
    "x = 57\n",
    "y = 55\n",
    "z = 152"
   ]
  },
  {
   "cell_type": "code",
   "execution_count": 785,
   "metadata": {},
   "outputs": [],
   "source": [
    "slice_axial = \"../react-ui/src/assets/P57-16/mri_rotated/slices_coronal/slice_\" + str(z) + \".png\""
   ]
  },
  {
   "cell_type": "code",
   "execution_count": 786,
   "metadata": {},
   "outputs": [],
   "source": [
    "img = matlib.imread(slice_axial)"
   ]
  },
  {
   "cell_type": "code",
   "execution_count": 787,
   "metadata": {},
   "outputs": [],
   "source": [
    "npy_axial = \"../react-ui/src/assets/P57-16/mri_rotated/indices_coronal/slice_\" + str(z) + \".npy\"\n",
    "npy_array = np.load(npy_axial)"
   ]
  },
  {
   "cell_type": "code",
   "execution_count": 788,
   "metadata": {},
   "outputs": [
    {
     "name": "stdout",
     "output_type": "stream",
     "text": [
      "False\n",
      "(362, 226)\n",
      "value2 = 0\n"
     ]
    }
   ],
   "source": [
    "print(np.isfortran(npy_array))\n",
    "print(npy_array.shape)\n",
    "value2 = npy_array[x,y]\n",
    "print('value2 = {}'.format(value2))"
   ]
  },
  {
   "cell_type": "code",
   "execution_count": 789,
   "metadata": {},
   "outputs": [],
   "source": [
    "'''\n",
    "image rotation\n",
    "'''\n",
    "center =  (np.array(npy_array.shape) - 1)/2"
   ]
  },
  {
   "cell_type": "code",
   "execution_count": 790,
   "metadata": {},
   "outputs": [],
   "source": [
    "x_rot = (-y + 2 * center[1]).astype('int')\n",
    "y_rot = (2*center[0] - x).astype('int')"
   ]
  },
  {
   "cell_type": "code",
   "execution_count": 791,
   "metadata": {},
   "outputs": [],
   "source": [
    "# sagittal has been flipped horizontally, so need to adjust the npy array (other planes do not need to be flipped)\n",
    "npy_array_flipped = np.fliplr(npy_array)"
   ]
  },
  {
   "cell_type": "code",
   "execution_count": 792,
   "metadata": {},
   "outputs": [
    {
     "name": "stdout",
     "output_type": "stream",
     "text": [
      "value for rotated coordinates = 34\n"
     ]
    }
   ],
   "source": [
    "v_rot_1 = npy_array[y_rot, x_rot]\n",
    "print('value for rotated coordinates = {}'.format(v_rot_1))"
   ]
  },
  {
   "cell_type": "code",
   "execution_count": null,
   "metadata": {},
   "outputs": [],
   "source": []
  },
  {
   "cell_type": "code",
   "execution_count": null,
   "metadata": {},
   "outputs": [],
   "source": []
  }
 ],
 "metadata": {
  "kernelspec": {
   "display_name": "Python 3",
   "language": "python",
   "name": "python3"
  },
  "language_info": {
   "codemirror_mode": {
    "name": "ipython",
    "version": 3
   },
   "file_extension": ".py",
   "mimetype": "text/x-python",
   "name": "python",
   "nbconvert_exporter": "python",
   "pygments_lexer": "ipython3",
   "version": "3.8.3"
  }
 },
 "nbformat": 4,
 "nbformat_minor": 5
}
