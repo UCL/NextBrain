{
 "cells": [
  {
   "cell_type": "code",
   "execution_count": 1,
   "id": "communist-academy",
   "metadata": {},
   "outputs": [],
   "source": [
    "import numpy as np\n",
    "import os, os.path\n",
    "import matplotlib.image as matlib\n",
    "\n",
    "import sys\n",
    "np.set_printoptions(threshold=sys.maxsize)"
   ]
  },
  {
   "cell_type": "code",
   "execution_count": 2,
   "id": "economic-premiere",
   "metadata": {},
   "outputs": [],
   "source": [
    "'''\n",
    "Test co-ordinates\n",
    "x = 99, y = 212, z = 127 (== slice in axial)\n",
    "expected block value = 33\n",
    "\n",
    "x = 60, y = 273, z = 186 (== slice in axial)\n",
    "expected block value = 45\n",
    "'''\n",
    "\n",
    "set1 = [99, 212, 127]\n",
    "expectedValue1 = 33\n",
    "set2 = [60, 273, 186]\n",
    "expectedValue2 = 45\n",
    "set3 = [82, 207, 246]\n",
    "expectedValue3 = 2\n",
    "\n",
    "test_list = []\n",
    "test_list.append(set1)\n",
    "test_list.append(set2)\n",
    "test_list.append(set3)"
   ]
  },
  {
   "cell_type": "code",
   "execution_count": 3,
   "id": "twelve-landing",
   "metadata": {},
   "outputs": [],
   "source": [
    "def getNumpyForSlice(slice, isRotated):\n",
    "    mri = \"mri\"\n",
    "    if isRotated:\n",
    "        mri = \"mri_rotated\"\n",
    "    \n",
    "    npy_file = \"../react-ui/src/assets/P57-16/\" + mri + \"/indices_axial/slice_\" + str(slice) + \".npy\"\n",
    "    array = np.load(npy_file)\n",
    "    return array"
   ]
  },
  {
   "cell_type": "code",
   "execution_count": 4,
   "id": "knowing-seller",
   "metadata": {},
   "outputs": [],
   "source": [
    "def rotatedXY(x,y,npy_array):\n",
    "    center =  (np.array(npy_array.shape) - 1)/2\n",
    "    x_rot = (-y + 2 * center[1]).astype('int')\n",
    "    y_rot = (2*center[0] - x).astype('int')    \n",
    "    return x_rot, y_rot\n",
    "\n",
    "def invrotateXY(x,y,npy_array):\n",
    "    center = (np.array(npy_array.shape) -1) / 2 \n",
    "    x2 = (-y + 2 * center[1]).astype('int')\n",
    "    y2 = (-x + 2 * center[0]).astype('int')\n",
    "    return x2,y2    "
   ]
  },
  {
   "cell_type": "code",
   "execution_count": 5,
   "id": "refined-ethnic",
   "metadata": {},
   "outputs": [],
   "source": [
    "def checkDimensions(x, y, npy_array):\n",
    "    npy_shape = npy_array.shape\n",
    "    if x < npy_shape[0] and y < npy_shape[1]:\n",
    "        return True\n",
    "    return False\n",
    "    \n",
    "\n",
    "def testSet(coordinates, rotateXY, isRotated, invRotate=False):\n",
    "    slice = coordinates[2]\n",
    "    npy_array = getNumpyForSlice(slice, isRotated)\n",
    "    x = coordinates[0]\n",
    "    y = coordinates[1]\n",
    "    inverted = False\n",
    "    block = -99\n",
    "\n",
    "    if checkDimensions(x,y,npy_array):\n",
    "        print(\"*** within bounds ***\")\n",
    "        block = npy_array[x, y]\n",
    "    elif checkDimensions(y,x,npy_array):\n",
    "        print(\"*** inverted within bounds ***\")\n",
    "        block = npy_array[y,x]\n",
    "                \n",
    "    if rotateXY:\n",
    "        block = -99\n",
    "        xr,yr = rotatedXY(coordinates[0], coordinates[1], npy_array)\n",
    "        if invRotate:\n",
    "            xr, yr = invrotateXY(coordinates[0], coordinates[1], npy_array)\n",
    "        if checkDimensions(xr,yr,npy_array):\n",
    "            print(\"---> rotated within bounds <----\")\n",
    "            block = npy_array[xr, yr]\n",
    "        elif checkDimensions(yr,xr,npy_array):\n",
    "            block = npy_array[yr,xr]\n",
    "            print(\"---> rotated/inverted within bounds <----\")\n",
    "            \n",
    "\n",
    "    return block "
   ]
  },
  {
   "cell_type": "code",
   "execution_count": 6,
   "id": "according-surprise",
   "metadata": {},
   "outputs": [
    {
     "name": "stdout",
     "output_type": "stream",
     "text": [
      "*** No X,Y rotation; mri folder. \n",
      "*** within bounds ***\n",
      "*** within bounds ***\n",
      "*** within bounds ***\n",
      "mri/not zero count: block_set1=33 block_set2=45 block_set3=2\n",
      "\n",
      "*** No X,Y rotation; mri_rotated folder. \n",
      "*** within bounds ***\n",
      "*** inverted within bounds ***\n",
      "*** within bounds ***\n",
      "mri_rotated/not zero count: block_set1=0 block_set2=5 block_set3=0\n",
      "\n",
      "*** X,Y rotation; mri_rotated folder. \n",
      "*** within bounds ***\n",
      "---> rotated/inverted within bounds <----\n",
      "*** inverted within bounds ***\n",
      "---> rotated/inverted within bounds <----\n",
      "*** within bounds ***\n",
      "---> rotated/inverted within bounds <----\n",
      "mri_rotated/non zero count/xy trafo: block_set1=0 block_set2=0 block_set3=0\n",
      "\n",
      "*** X,Y rotation; mri folder. \n",
      "*** within bounds ***\n",
      "---> rotated/inverted within bounds <----\n",
      "*** within bounds ***\n",
      "---> rotated within bounds <----\n",
      "*** within bounds ***\n",
      "---> rotated/inverted within bounds <----\n",
      "mri_rotated/non zero count/xy trafo: block_set1=45 block_set2=5 block_set3=17\n",
      "\n",
      "*** X,Y rotation; mri_rotated folder. inv rotate \n",
      "*** within bounds ***\n",
      "---> rotated/inverted within bounds <----\n",
      "*** inverted within bounds ***\n",
      "---> rotated/inverted within bounds <----\n",
      "*** within bounds ***\n",
      "---> rotated/inverted within bounds <----\n",
      "mri_rotated/non zero count/xy trafo: block_set1=0 block_set2=0 block_set3=0\n",
      "\n"
     ]
    }
   ],
   "source": [
    "\n",
    "\n",
    "\n",
    "\n",
    "# No X,Y rotation; mri axial folder.  \n",
    "print(\"*** No X,Y rotation; mri folder. \")\n",
    "block1_nr_nz = testSet(set1, False, False)\n",
    "block2_nr_nz = testSet(set2, False, False)\n",
    "block3_nr_nz = testSet(set3, False, False)\n",
    "\n",
    "print(\"mri/not zero count: block_set1={} block_set2={} block_set3={}\\n\".format(block1_nr_nz,block2_nr_nz,block3_nr_nz))\n",
    "\n",
    "# No X,Y rotation; mri_rotated axial folder.  \n",
    "print(\"*** No X,Y rotation; mri_rotated folder. \")\n",
    "block1_r_nz = testSet(set1, False, True)\n",
    "block2_r_nz = testSet(set2, False, True)\n",
    "block3_r_nz = testSet(set3, False, True)\n",
    "print(\"mri_rotated/not zero count: block_set1={} block_set2={} block_set3={}\\n\".format(block1_r_nz,block2_r_nz,block3_r_nz))\n",
    "\n",
    "\n",
    "# X,Y rotation; mri_rotated folder.  \n",
    "print(\"*** X,Y rotation; mri_rotated folder. \")\n",
    "block1_tr_r_nz = testSet(set1, True, True)\n",
    "block2_tr_r_nz = testSet(set2, True, True)\n",
    "block3_tr_r_nz = testSet(set3, True, True)\n",
    "\n",
    "print(\"mri_rotated/non zero count/xy trafo: block_set1={} block_set2={} block_set3={}\\n\".format(block1_tr_r_nz,block2_tr_r_nz,block3_tr_r_nz))\n",
    "\n",
    "# X,Y rotation; mri folder.  \n",
    "print(\"*** X,Y rotation; mri folder. \")\n",
    "block1_tr_r_nz = testSet(set1, True, False)\n",
    "block2_tr_r_nz = testSet(set2, True, False)\n",
    "block3_tr_r_nz = testSet(set3, True, False)\n",
    "\n",
    "print(\"mri_rotated/non zero count/xy trafo: block_set1={} block_set2={} block_set3={}\\n\".format(block1_tr_r_nz,block2_tr_r_nz,block3_tr_r_nz))\n",
    "\n",
    "# X,Y rotation; mri_rotated folder. inv rotate \n",
    "print(\"*** X,Y rotation; mri_rotated folder. inv rotate \")\n",
    "block1_tr_r_nz = testSet(set1, True, True, True)\n",
    "block2_tr_r_nz = testSet(set2, True, True, True)\n",
    "block3_tr_r_nz = testSet(set3, True, True, True)\n",
    "\n",
    "print(\"mri_rotated/non zero count/xy trafo: block_set1={} block_set2={} block_set3={}\\n\".format(block1_tr_r_nz,block2_tr_r_nz,block3_tr_r_nz))\n",
    "\n",
    "\n",
    "\n",
    "\n",
    "\n",
    "\n"
   ]
  },
  {
   "cell_type": "code",
   "execution_count": null,
   "id": "finite-council",
   "metadata": {},
   "outputs": [],
   "source": []
  },
  {
   "cell_type": "code",
   "execution_count": 1747,
   "metadata": {},
   "outputs": [],
   "source": []
  },
  {
   "cell_type": "code",
   "execution_count": 1748,
   "metadata": {},
   "outputs": [],
   "source": [
    "# sagittal has been flipped horizontally, so need to adjust the npy array (other planes do not need to be flipped)\n",
    "npy_array_flipped = np.fliplr(npy_array)"
   ]
  },
  {
   "cell_type": "code",
   "execution_count": 1749,
   "metadata": {},
   "outputs": [
    {
     "name": "stdout",
     "output_type": "stream",
     "text": [
      "value for rotated coordinates = 31\n"
     ]
    }
   ],
   "source": []
  },
  {
   "cell_type": "code",
   "execution_count": null,
   "metadata": {},
   "outputs": [],
   "source": []
  },
  {
   "cell_type": "code",
   "execution_count": 1750,
   "metadata": {},
   "outputs": [
    {
     "name": "stdout",
     "output_type": "stream",
     "text": [
      "True\n",
      "(450, 362)\n",
      "44\n"
     ]
    }
   ],
   "source": [
    "npy_arrayT = np.transpose(npy_array)\n",
    "\n",
    "print(np.isfortran(npy_arrayT))\n",
    "print(npy_arrayT.shape)\n",
    "print(npy_arrayT[x][y])"
   ]
  },
  {
   "cell_type": "code",
   "execution_count": 1751,
   "metadata": {},
   "outputs": [
    {
     "name": "stdout",
     "output_type": "stream",
     "text": [
      "False\n",
      "(450, 362)\n",
      "21\n"
     ]
    }
   ],
   "source": [
    "npy_arrayT_flipped = np.fliplr(npy_arrayT)\n",
    "\n",
    "print(np.isfortran(npy_arrayT_flipped))\n",
    "print(npy_arrayT_flipped.shape)\n",
    "print(npy_arrayT_flipped[x][y])"
   ]
  },
  {
   "cell_type": "code",
   "execution_count": null,
   "metadata": {},
   "outputs": [],
   "source": []
  },
  {
   "cell_type": "code",
   "execution_count": 1606,
   "metadata": {},
   "outputs": [],
   "source": [
    "rng = np.random.default_rng()\n",
    "x = np.arange(0, 25).reshape(5, 5)"
   ]
  },
  {
   "cell_type": "code",
   "execution_count": 1608,
   "metadata": {},
   "outputs": [
    {
     "name": "stdout",
     "output_type": "stream",
     "text": [
      "False\n",
      "(5, 5)\n"
     ]
    },
    {
     "data": {
      "text/plain": [
       "array([[ 4,  3,  2,  1,  0],\n",
       "       [ 9,  8,  7,  6,  5],\n",
       "       [14, 13, 12, 11, 10],\n",
       "       [19, 18, 17, 16, 15],\n",
       "       [24, 23, 22, 21, 20]])"
      ]
     },
     "execution_count": 1608,
     "metadata": {},
     "output_type": "execute_result"
    }
   ],
   "source": [
    "x = np.fliplr(x)\n",
    "\n",
    "print(np.isfortran(x))\n",
    "print(x.shape)\n",
    "x"
   ]
  },
  {
   "cell_type": "code",
   "execution_count": 1605,
   "metadata": {},
   "outputs": [
    {
     "data": {
      "text/plain": [
       "17"
      ]
     },
     "execution_count": 1605,
     "metadata": {},
     "output_type": "execute_result"
    }
   ],
   "source": [
    "x[3,2]"
   ]
  },
  {
   "cell_type": "code",
   "execution_count": 1333,
   "metadata": {},
   "outputs": [],
   "source": [
    "#np.save('test1', x)"
   ]
  },
  {
   "cell_type": "code",
   "execution_count": 1335,
   "metadata": {},
   "outputs": [
    {
     "name": "stdout",
     "output_type": "stream",
     "text": [
      "True\n",
      "(5, 5)\n"
     ]
    },
    {
     "data": {
      "text/plain": [
       "array([[ 0,  5, 10, 15, 20],\n",
       "       [ 1,  6, 11, 16, 21],\n",
       "       [ 2,  7, 12, 17, 22],\n",
       "       [ 3,  8, 13, 18, 23],\n",
       "       [ 4,  9, 14, 19, 24]])"
      ]
     },
     "execution_count": 1335,
     "metadata": {},
     "output_type": "execute_result"
    }
   ],
   "source": [
    "xT = np.transpose(x)\n",
    "#xT = np.swapaxes(npy_array, 1, 0)\n",
    "\n",
    "\n",
    "print(np.isfortran(xT))\n",
    "print(xT.shape)\n",
    "xT"
   ]
  },
  {
   "cell_type": "code",
   "execution_count": 1340,
   "metadata": {},
   "outputs": [
    {
     "data": {
      "text/plain": [
       "11"
      ]
     },
     "execution_count": 1340,
     "metadata": {},
     "output_type": "execute_result"
    }
   ],
   "source": [
    "xT[1,2]"
   ]
  },
  {
   "cell_type": "code",
   "execution_count": null,
   "metadata": {},
   "outputs": [],
   "source": []
  }
 ],
 "metadata": {
  "kernelspec": {
   "display_name": "Python 3",
   "language": "python",
   "name": "python3"
  },
  "language_info": {
   "codemirror_mode": {
    "name": "ipython",
    "version": 3
   },
   "file_extension": ".py",
   "mimetype": "text/x-python",
   "name": "python",
   "nbconvert_exporter": "python",
   "pygments_lexer": "ipython3",
   "version": "3.8.3"
  }
 },
 "nbformat": 4,
 "nbformat_minor": 5
}
