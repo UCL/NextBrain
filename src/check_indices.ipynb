{
 "cells": [
  {
   "cell_type": "code",
   "execution_count": 37,
   "metadata": {},
   "outputs": [],
   "source": [
    "import numpy as np\n",
    "import os, os.path\n",
    "import matplotlib.image as matlib"
   ]
  },
  {
   "cell_type": "code",
   "execution_count": 56,
   "metadata": {},
   "outputs": [],
   "source": [
    "plane = \"axial\"\n",
    "mouse_x = 100\n",
    "mouse_y = 313\n",
    "axial_slice = 108\n",
    "sagittal_slice = 126\n",
    "coronal_slice = 137"
   ]
  },
  {
   "cell_type": "code",
   "execution_count": 57,
   "metadata": {},
   "outputs": [],
   "source": [
    "npy_file = \"../react-ui/src/assets/P57-16/mri_rotated/indices_\" + plane + \"/slice_\" + str(axial_slice) + \".npy\""
   ]
  },
  {
   "cell_type": "code",
   "execution_count": 58,
   "metadata": {},
   "outputs": [
    {
     "name": "stdout",
     "output_type": "stream",
     "text": [
      "False\n",
      "(450, 226)\n"
     ]
    }
   ],
   "source": [
    "npy_slice_array = np.load(npy_file)\n",
    "\n",
    "print(np.isfortran(npy_slice_array))\n",
    "print(npy_slice_array.shape)\n",
    "#print(npy_slice_array[45])"
   ]
  },
  {
   "cell_type": "code",
   "execution_count": 59,
   "metadata": {},
   "outputs": [
    {
     "name": "stdout",
     "output_type": "stream",
     "text": [
      "35\n"
     ]
    }
   ],
   "source": [
    "# get the block number from the numpy array\n",
    "block = npy_slice_array[mouse_y][mouse_x]\n",
    "print(block)"
   ]
  },
  {
   "cell_type": "code",
   "execution_count": 60,
   "metadata": {},
   "outputs": [],
   "source": [
    "# define a vector to be used later (to get the histology coords)\n",
    "# an earlier version of this notebook did +1 to the mri_slice here, need to check if this is necessary.\n",
    "# need to find out the correct order of params when creating the vector (depending on the current plane)\n",
    "if block == 0:\n",
    "    print(\"block number is 0, no further calculations are necessary as there is no associated histology\")\n",
    "\n",
    "    \n",
    "#if plane == \"sagittal\":\n",
    "#  mri_vector=np.array([float(mri_slice), float(mouse_y), float(mouse_x), 1.0])\n",
    "#elif plane == \"coronal\":\n",
    "#  mri_vector=np.array([float(mri_slice), float(mouse_y), float(mouse_x), 1.0])\n",
    "#elif plane == \"axial\":\n",
    "#  mri_vector=np.array([float(mouse_x), float(mouse_y), float(mri_slice), 1.0])\n",
    "\n",
    "mri_vector = np.array([float(sagittal_slice), float(coronal_slice), float(axial_slice), 1.0])"
   ]
  },
  {
   "cell_type": "code",
   "execution_count": 61,
   "metadata": {},
   "outputs": [],
   "source": [
    "# open the matrix txt file\n",
    "matrix_txt = open(\"../react-ui/src/assets/P57-16/mri/matrices/block_\" + str(block) + \".txt\")\n",
    "read_matrix_txt = matrix_txt.read()"
   ]
  },
  {
   "cell_type": "code",
   "execution_count": 62,
   "metadata": {},
   "outputs": [],
   "source": [
    "# parse the text file and convert it to an array\n",
    "matrix = read_matrix_txt.replace('\\n', ' ')\n",
    "matrix = matrix.split(\" \")\n",
    "matrix = matrix[:-1] # pops the last element in the array"
   ]
  },
  {
   "cell_type": "code",
   "execution_count": 63,
   "metadata": {},
   "outputs": [],
   "source": [
    "# convert the array of strings to an array of floats\n",
    "matrix_as_floats = []\n",
    "for item in matrix:\n",
    "    matrix_as_floats.append(float(item))"
   ]
  },
  {
   "cell_type": "code",
   "execution_count": 64,
   "metadata": {},
   "outputs": [
    {
     "name": "stdout",
     "output_type": "stream",
     "text": [
      "[[0.4074435428402476, -3.6811013654388773, 1.5910461299389174, 641.7138519021559], [-0.5385821866938263, 1.2344138477219517, 3.797578063900766, -237.01869453446682], [-0.5813015221665628, -0.09033068469291156, -0.07897139171600423, 94.13156309649324], [0.0, 0.0, 0.0, 1.0]]\n"
     ]
    }
   ],
   "source": [
    "# divide matrix array into chuncks to form a multidimensional array\n",
    "def divide_chunks(l, n):\n",
    "    for i in range(0, len(l), n): \n",
    "        yield l[i:i + n]\n",
    "\n",
    "# how many elements should have\n",
    "n = 4\n",
    "  \n",
    "chunked_array = list(divide_chunks(matrix_as_floats, n))\n",
    "print(chunked_array)"
   ]
  },
  {
   "cell_type": "code",
   "execution_count": 65,
   "metadata": {},
   "outputs": [
    {
     "name": "stdout",
     "output_type": "stream",
     "text": [
      "[[ 4.07443543e-01 -3.68110137e+00  1.59104613e+00  6.41713852e+02]\n",
      " [-5.38582187e-01  1.23441385e+00  3.79757806e+00 -2.37018695e+02]\n",
      " [-5.81301522e-01 -9.03306847e-02 -7.89713917e-02  9.41315631e+01]\n",
      " [ 0.00000000e+00  0.00000000e+00  0.00000000e+00  1.00000000e+00]]\n"
     ]
    }
   ],
   "source": [
    "transform = np.array(chunked_array)\n",
    "print(transform)"
   ]
  },
  {
   "cell_type": "code",
   "execution_count": 66,
   "metadata": {},
   "outputs": [],
   "source": [
    "blockvector = transform.dot(mri_vector)"
   ]
  },
  {
   "cell_type": "code",
   "execution_count": 67,
   "metadata": {},
   "outputs": [
    {
     "name": "stdout",
     "output_type": "stream",
     "text": [
      "[ 3.60573833e+02  2.74373078e+02 -1.66428048e-02  1.00000000e+00]\n"
     ]
    }
   ],
   "source": [
    "print(blockvector)"
   ]
  },
  {
   "cell_type": "code",
   "execution_count": null,
   "metadata": {},
   "outputs": [],
   "source": [
    "# test_transform = np.array([[0.31385434307807203, -3.664457652247729, 1.6199030926177134, 666.0080271821023],\n",
    "# [-0.7744411837137424, 1.4870493065731998, 3.6535143658756977, -139.31333561581766],\n",
    "# [-1.2110952755381341, -0.18593341100766062, -0.1914204859080043, 118.27995513465419],\n",
    "# [0.0, 0.0, 0.0, 1.0]])"
   ]
  },
  {
   "cell_type": "code",
   "execution_count": 2,
   "metadata": {},
   "outputs": [],
   "source": [
    "histology = \"../react-ui/src/assets/P57-16/histology\"\n"
   ]
  },
  {
   "cell_type": "code",
   "execution_count": 91,
   "metadata": {},
   "outputs": [
    {
     "name": "stdout",
     "output_type": "stream",
     "text": [
      "../react-ui/src/assets/P57-16/histology/45/slices_HE\n",
      "39\n"
     ]
    }
   ],
   "source": [
    "folder = os.path.join(histology,\"45\")\n",
    "slice_folder = os.path.join(folder,\"slices_HE\")\n",
    "if os.path.exists(slice_folder):\n",
    "    print(slice_folder)\n",
    "else:\n",
    "    print(\"the folder does not exist\")\n",
    "images = [name for name in os.listdir(slice_folder) if os.path.isfile(os.path.join(slice_folder, name))]\n",
    "print(len(images))\n",
    "image = None\n",
    "if len(images) > 0:\n",
    "    image = images[0]"
   ]
  },
  {
   "cell_type": "code",
   "execution_count": 92,
   "metadata": {},
   "outputs": [
    {
     "name": "stdout",
     "output_type": "stream",
     "text": [
      "(841, 592, 3)\n"
     ]
    }
   ],
   "source": [
    "if not image == None:\n",
    "    fullPath = os.path.join(slice_folder, image)\n",
    "    readImage = matlib.imread(fullPath)\n",
    "    print(readImage.shape)"
   ]
  },
  {
   "cell_type": "code",
   "execution_count": null,
   "metadata": {},
   "outputs": [],
   "source": []
  }
 ],
 "metadata": {
  "kernelspec": {
   "display_name": "Python 3",
   "language": "python",
   "name": "python3"
  },
  "language_info": {
   "codemirror_mode": {
    "name": "ipython",
    "version": 3
   },
   "file_extension": ".py",
   "mimetype": "text/x-python",
   "name": "python",
   "nbconvert_exporter": "python",
   "pygments_lexer": "ipython3",
   "version": "3.8.3"
  }
 },
 "nbformat": 4,
 "nbformat_minor": 5
}
