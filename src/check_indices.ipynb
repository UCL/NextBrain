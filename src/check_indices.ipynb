{
 "cells": [
  {
   "cell_type": "code",
   "execution_count": 87,
   "id": "chemical-supervisor",
   "metadata": {},
   "outputs": [],
   "source": [
    "import numpy as np\n",
    "import os, os.path\n",
    "import matplotlib.image as matlib"
   ]
  },
  {
   "cell_type": "code",
   "execution_count": 88,
   "id": "thrown-ethiopia",
   "metadata": {},
   "outputs": [],
   "source": [
    "plane = \"sagittal\"\n",
    "mri_slice = 99\n",
    "mouse_x = 212\n",
    "mouse_y = 212"
   ]
  },
  {
   "cell_type": "code",
   "execution_count": 89,
   "id": "reduced-circus",
   "metadata": {},
   "outputs": [],
   "source": [
    "npy_file = \"../react-ui/src/assets/P57-16/mri/indices_\" + plane + \"/slice_0\" + str(mri_slice) + \".npy\""
   ]
  },
  {
   "cell_type": "code",
   "execution_count": 92,
   "id": "italian-status",
   "metadata": {},
   "outputs": [
    {
     "name": "stdout",
     "output_type": "stream",
     "text": [
      "True\n",
      "(224, 448)\n"
     ]
    }
   ],
   "source": [
    "npy_slice_array = np.load(npy_file)\n",
    "\n",
    "print(np.isfortran(npy_slice_array))\n",
    "print(npy_slice_array.shape)\n",
    "#print(npy_slice_array[45])"
   ]
  },
  {
   "cell_type": "code",
   "execution_count": 93,
   "id": "ideal-consensus",
   "metadata": {},
   "outputs": [
    {
     "name": "stdout",
     "output_type": "stream",
     "text": [
      "0\n"
     ]
    }
   ],
   "source": [
    "# get the block number from the numpy array\n",
    "block = npy_slice_array[mouse_x][mouse_y]\n",
    "print(block)"
   ]
  },
  {
   "cell_type": "code",
   "execution_count": 35,
   "id": "initial-spotlight",
   "metadata": {},
   "outputs": [],
   "source": [
    "# define a vector to be used later (to get the histology coords)\n",
    "# an earlier version of this notebook did +1 to the mri_slice here, need to check if this is necessary.\n",
    "mri_vector=np.array([mouse_x, mouse_y, mri_slice, 1.0])"
   ]
  },
  {
   "cell_type": "code",
   "execution_count": 36,
   "id": "detected-aside",
   "metadata": {},
   "outputs": [],
   "source": [
    "# open the matrix txt file\n",
    "matrix_txt = open(\"../react-ui/src/assets/P57-16/mri/matrices/block_\" + str(block) + \".txt\")\n",
    "read_matrix_txt = matrix_txt.read()"
   ]
  },
  {
   "cell_type": "code",
   "execution_count": 37,
   "id": "cosmetic-algebra",
   "metadata": {},
   "outputs": [],
   "source": [
    "# parse the text file and convert it to an array\n",
    "matrix = read_matrix_txt.replace('\\n', ' ')\n",
    "matrix = matrix.split(\" \")\n",
    "matrix = matrix[:-1] # pops the last element in the array"
   ]
  },
  {
   "cell_type": "code",
   "execution_count": 38,
   "id": "joint-temperature",
   "metadata": {},
   "outputs": [],
   "source": [
    "# convert the array of strings to an array of floats\n",
    "matrix_as_floats = []\n",
    "for item in matrix:\n",
    "    matrix_as_floats.append(float(item))"
   ]
  },
  {
   "cell_type": "code",
   "execution_count": 39,
   "id": "disabled-canada",
   "metadata": {},
   "outputs": [
    {
     "name": "stdout",
     "output_type": "stream",
     "text": [
      "[[3.9918815921927324, 0.14203936785714244, 0.2353534993986506, -95.3126553016657], [0.16442745659295432, -1.3162776492428165, -3.803865995716457, 969.8247167526811], [-0.0112355845778312, 0.55207262125821, -0.23935829358640404, -4.480988935563403], [0.0, 0.0, 0.0, 1.0]]\n"
     ]
    }
   ],
   "source": [
    "# divide matrix array into chuncks to form a multidimensional array\n",
    "def divide_chunks(l, n):\n",
    "    for i in range(0, len(l), n): \n",
    "        yield l[i:i + n]\n",
    "\n",
    "# how many elements should have\n",
    "n = 4\n",
    "  \n",
    "chunked_array = list(divide_chunks(matrix_as_floats, n))\n",
    "print(chunked_array)"
   ]
  },
  {
   "cell_type": "code",
   "execution_count": 40,
   "id": "periodic-trader",
   "metadata": {},
   "outputs": [],
   "source": [
    "transform = np.array(chunked_array)\n",
    "# print(transform)"
   ]
  },
  {
   "cell_type": "code",
   "execution_count": 41,
   "id": "asian-dividend",
   "metadata": {},
   "outputs": [],
   "source": [
    "blockvector = transform.dot(mri_vector)"
   ]
  },
  {
   "cell_type": "code",
   "execution_count": 42,
   "id": "ranking-publication",
   "metadata": {},
   "outputs": [
    {
     "name": "stdout",
     "output_type": "stream",
     "text": [
      "[156.26655979 291.6532176    9.52021904   1.        ]\n"
     ]
    }
   ],
   "source": [
    "print(blockvector)"
   ]
  },
  {
   "cell_type": "code",
   "execution_count": null,
   "id": "continuing-culture",
   "metadata": {},
   "outputs": [],
   "source": [
    "# test_transform = np.array([[0.31385434307807203, -3.664457652247729, 1.6199030926177134, 666.0080271821023],\n",
    "# [-0.7744411837137424, 1.4870493065731998, 3.6535143658756977, -139.31333561581766],\n",
    "# [-1.2110952755381341, -0.18593341100766062, -0.1914204859080043, 118.27995513465419],\n",
    "# [0.0, 0.0, 0.0, 1.0]])"
   ]
  },
  {
   "cell_type": "code",
   "execution_count": 11,
   "id": "distributed-harvey",
   "metadata": {},
   "outputs": [],
   "source": [
    "histology = \"../react-ui/src/assets/P57-16/histology\"\n"
   ]
  },
  {
   "cell_type": "code",
   "execution_count": 12,
   "id": "worth-proxy",
   "metadata": {},
   "outputs": [
    {
     "name": "stdout",
     "output_type": "stream",
     "text": [
      "../react-ui/src/assets/P57-16/histology/25/slices_HE\n",
      "38\n"
     ]
    }
   ],
   "source": [
    "folder = os.path.join(histology,\"25\")\n",
    "slice_folder = os.path.join(folder,\"slices_HE\")\n",
    "if os.path.exists(slice_folder):\n",
    "    print(slice_folder)\n",
    "else:\n",
    "    print(\"the folder does not exist\")\n",
    "images = [name for name in os.listdir(slice_folder) if os.path.isfile(os.path.join(slice_folder, name))]\n",
    "print(len(images))\n",
    "image = None\n",
    "if len(images) > 0:\n",
    "    image = images[0]"
   ]
  },
  {
   "cell_type": "code",
   "execution_count": 13,
   "id": "crazy-webcam",
   "metadata": {},
   "outputs": [
    {
     "name": "stdout",
     "output_type": "stream",
     "text": [
      "(805, 552, 3)\n"
     ]
    }
   ],
   "source": [
    "if not image == None:\n",
    "    fullPath = os.path.join(slice_folder, image)\n",
    "    readImage = matlib.imread(fullPath)\n",
    "    print(readImage.shape)"
   ]
  },
  {
   "cell_type": "code",
   "execution_count": null,
   "id": "short-maria",
   "metadata": {},
   "outputs": [],
   "source": []
  }
 ],
 "metadata": {
  "kernelspec": {
   "display_name": "Python 3",
   "language": "python",
   "name": "python3"
  },
  "language_info": {
   "codemirror_mode": {
    "name": "ipython",
    "version": 3
   },
   "file_extension": ".py",
   "mimetype": "text/x-python",
   "name": "python",
   "nbconvert_exporter": "python",
   "pygments_lexer": "ipython3",
   "version": "3.7.9"
  }
 },
 "nbformat": 4,
 "nbformat_minor": 5
}
