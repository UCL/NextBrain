{
 "cells": [
  {
   "cell_type": "code",
   "execution_count": 2,
   "id": "frank-knife",
   "metadata": {},
   "outputs": [],
   "source": [
    "import numpy as np\n",
    "import os, os.path\n",
    "import matplotlib.image as matlib"
   ]
  },
  {
   "cell_type": "code",
   "execution_count": 3,
   "id": "democratic-pitch",
   "metadata": {},
   "outputs": [],
   "source": [
    "example_file = \"/Users/peterschmidt/brainatlas/images/P57-16/mri/indices_axial/slice_102.npy\""
   ]
  },
  {
   "cell_type": "code",
   "execution_count": 4,
   "id": "available-participation",
   "metadata": {},
   "outputs": [
    {
     "name": "stdout",
     "output_type": "stream",
     "text": [
      "(224, 448)\n"
     ]
    }
   ],
   "source": [
    "array = np.load(example_file)\n",
    "print(array.shape)"
   ]
  },
  {
   "cell_type": "code",
   "execution_count": 5,
   "id": "aware-entry",
   "metadata": {},
   "outputs": [
    {
     "name": "stdout",
     "output_type": "stream",
     "text": [
      "25\n"
     ]
    }
   ],
   "source": [
    "print(array[47][80])"
   ]
  },
  {
   "cell_type": "code",
   "execution_count": 6,
   "id": "strange-movie",
   "metadata": {},
   "outputs": [],
   "source": [
    "mri=np.array([47.0,80.0,103.0,1.0])"
   ]
  },
  {
   "cell_type": "code",
   "execution_count": 7,
   "id": "formed-still",
   "metadata": {},
   "outputs": [],
   "source": [
    "block = array[47][80]"
   ]
  },
  {
   "cell_type": "code",
   "execution_count": 8,
   "id": "available-middle",
   "metadata": {},
   "outputs": [],
   "source": [
    "transform = np.array([[0.31385434307807203, -3.664457652247729, 1.6199030926177134, 666.0080271821023],\n",
    "[-0.7744411837137424, 1.4870493065731998, 3.6535143658756977, -139.31333561581766],\n",
    "[-1.2110952755381341, -0.18593341100766062, -0.1914204859080043, 118.27995513465419],\n",
    "[0.0, 0.0, 0.0, 1.0]])"
   ]
  },
  {
   "cell_type": "code",
   "execution_count": 9,
   "id": "adaptive-aluminum",
   "metadata": {},
   "outputs": [],
   "source": [
    "blockvector = transform.dot(mri)"
   ]
  },
  {
   "cell_type": "code",
   "execution_count": 10,
   "id": "powered-correction",
   "metadata": {},
   "outputs": [
    {
     "name": "stdout",
     "output_type": "stream",
     "text": [
      "[554.45258767 319.56385296  26.76749426   1.        ]\n"
     ]
    }
   ],
   "source": [
    "print(blockvector)"
   ]
  },
  {
   "cell_type": "code",
   "execution_count": 11,
   "id": "expensive-olympus",
   "metadata": {},
   "outputs": [],
   "source": [
    "histology = \"/Users/peterschmidt/brainatlas/images/P57-16/histology\"\n"
   ]
  },
  {
   "cell_type": "code",
   "execution_count": 14,
   "id": "secret-elizabeth",
   "metadata": {},
   "outputs": [
    {
     "name": "stdout",
     "output_type": "stream",
     "text": [
      "/Users/peterschmidt/brainatlas/images/P57-16/histology/25/slices_HE\n",
      "38\n"
     ]
    }
   ],
   "source": [
    "folder = os.path.join(histology,\"25\")\n",
    "slice_folder = os.path.join(folder,\"slices_HE\")\n",
    "if os.path.exists(slice_folder):\n",
    "    print(slice_folder)\n",
    "else:\n",
    "    print(\"the folder does not exist\")\n",
    "images = [name for name in os.listdir(slice_folder) if os.path.isfile(os.path.join(slice_folder, name))]\n",
    "print(len(images))\n",
    "image = None\n",
    "if len(images) > 0:\n",
    "    image = images[0]"
   ]
  },
  {
   "cell_type": "code",
   "execution_count": 17,
   "id": "endangered-worthy",
   "metadata": {},
   "outputs": [
    {
     "name": "stdout",
     "output_type": "stream",
     "text": [
      "(805, 552, 3)\n"
     ]
    }
   ],
   "source": [
    "if not image == None:\n",
    "    fullPath = os.path.join(slice_folder, image)\n",
    "    readImage = matlib.imread(fullPath)\n",
    "    print(readImage.shape)"
   ]
  },
  {
   "cell_type": "code",
   "execution_count": null,
   "id": "valid-horror",
   "metadata": {},
   "outputs": [],
   "source": []
  }
 ],
 "metadata": {
  "kernelspec": {
   "display_name": "Python 3.7.6 64-bit ('anaconda3': virtualenv)",
   "language": "python",
   "name": "python37664bitanaconda3virtualenv1cf2b99c49fa4559816f01354eee8ee8"
  },
  "language_info": {
   "codemirror_mode": {
    "name": "ipython",
    "version": 3
   },
   "file_extension": ".py",
   "mimetype": "text/x-python",
   "name": "python",
   "nbconvert_exporter": "python",
   "pygments_lexer": "ipython3",
   "version": "3.7.9"
  }
 },
 "nbformat": 4,
 "nbformat_minor": 5
}
