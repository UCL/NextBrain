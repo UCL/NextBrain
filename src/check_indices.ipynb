{
 "cells": [
  {
   "cell_type": "code",
   "execution_count": 140,
   "metadata": {},
   "outputs": [],
   "source": [
    "import numpy as np\n",
    "import os, os.path\n",
    "import matplotlib.image as matlib"
   ]
  },
  {
   "cell_type": "code",
   "execution_count": 141,
   "metadata": {},
   "outputs": [],
   "source": [
    "example_file = \"../react-ui/src/assets/P57-16/mri/indices_coronal/slice_235.npy\""
   ]
  },
  {
   "cell_type": "code",
   "execution_count": 142,
   "metadata": {},
   "outputs": [
    {
     "name": "stdout",
     "output_type": "stream",
     "text": [
      "(224, 282)\n"
     ]
    }
   ],
   "source": [
    "array = np.load(example_file)\n",
    "print(array.shape)"
   ]
  },
  {
   "cell_type": "code",
   "execution_count": 143,
   "metadata": {},
   "outputs": [
    {
     "data": {
      "text/plain": [
       "False"
      ]
     },
     "execution_count": 143,
     "metadata": {},
     "output_type": "execute_result"
    }
   ],
   "source": [
    "np.isfortran(array)"
   ]
  },
  {
   "cell_type": "code",
   "execution_count": 144,
   "metadata": {},
   "outputs": [
    {
     "name": "stdout",
     "output_type": "stream",
     "text": [
      "31\n"
     ]
    }
   ],
   "source": [
    "print(array[194][119])"
   ]
  },
  {
   "cell_type": "code",
   "execution_count": 145,
   "metadata": {},
   "outputs": [],
   "source": [
    "mri=np.array([194,119,235,1.0])"
   ]
  },
  {
   "cell_type": "code",
   "execution_count": 146,
   "metadata": {},
   "outputs": [],
   "source": [
    "block = array[194][119]"
   ]
  },
  {
   "cell_type": "code",
   "execution_count": 147,
   "metadata": {},
   "outputs": [],
   "source": [
    "transform = np.array([[0.31385434307807203, -3.664457652247729, 1.6199030926177134, 666.0080271821023],\n",
    "[-0.7744411837137424, 1.4870493065731998, 3.6535143658756977, -139.31333561581766],\n",
    "[-1.2110952755381341, -0.18593341100766062, -0.1914204859080043, 118.27995513465419],\n",
    "[0.0, 0.0, 0.0, 1.0]])"
   ]
  },
  {
   "cell_type": "code",
   "execution_count": 148,
   "metadata": {},
   "outputs": [],
   "source": [
    "blockvector = transform.dot(mri)"
   ]
  },
  {
   "cell_type": "code",
   "execution_count": 149,
   "metadata": {},
   "outputs": [
    {
     "name": "stdout",
     "output_type": "stream",
     "text": [
      "[ -8.49327516 325.73274307 -83.55023726   1.        ]\n"
     ]
    }
   ],
   "source": [
    "print(blockvector)"
   ]
  },
  {
   "cell_type": "code",
   "execution_count": 150,
   "metadata": {},
   "outputs": [],
   "source": [
    "histology = \"../react-ui/src/assets/P57-16/histology\"\n"
   ]
  },
  {
   "cell_type": "code",
   "execution_count": 151,
   "metadata": {},
   "outputs": [
    {
     "name": "stdout",
     "output_type": "stream",
     "text": [
      "../react-ui/src/assets/P57-16/histology/25/slices_HE\n",
      "38\n"
     ]
    }
   ],
   "source": [
    "folder = os.path.join(histology,\"25\")\n",
    "slice_folder = os.path.join(folder,\"slices_HE\")\n",
    "if os.path.exists(slice_folder):\n",
    "    print(slice_folder)\n",
    "else:\n",
    "    print(\"the folder does not exist\")\n",
    "images = [name for name in os.listdir(slice_folder) if os.path.isfile(os.path.join(slice_folder, name))]\n",
    "print(len(images))\n",
    "image = None\n",
    "if len(images) > 0:\n",
    "    image = images[0]"
   ]
  },
  {
   "cell_type": "code",
   "execution_count": 152,
   "metadata": {},
   "outputs": [
    {
     "name": "stdout",
     "output_type": "stream",
     "text": [
      "(805, 552, 3)\n"
     ]
    }
   ],
   "source": [
    "if not image == None:\n",
    "    fullPath = os.path.join(slice_folder, image)\n",
    "    readImage = matlib.imread(fullPath)\n",
    "    print(readImage.shape)"
   ]
  },
  {
   "cell_type": "code",
   "execution_count": null,
   "metadata": {},
   "outputs": [],
   "source": []
  }
 ],
 "metadata": {
  "kernelspec": {
   "display_name": "Python 3",
   "language": "python",
   "name": "python3"
  },
  "language_info": {
   "codemirror_mode": {
    "name": "ipython",
    "version": 3
   },
   "file_extension": ".py",
   "mimetype": "text/x-python",
   "name": "python",
   "nbconvert_exporter": "python",
   "pygments_lexer": "ipython3",
   "version": "3.8.3"
  }
 },
 "nbformat": 4,
 "nbformat_minor": 5
}
