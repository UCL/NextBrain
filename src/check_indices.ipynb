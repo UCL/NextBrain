{
 "cells": [
  {
   "cell_type": "code",
   "execution_count": 235,
   "metadata": {},
   "outputs": [],
   "source": [
    "import numpy as np\n",
    "import os, os.path\n",
    "import matplotlib.image as matlib"
   ]
  },
  {
   "cell_type": "code",
   "execution_count": 236,
   "metadata": {},
   "outputs": [],
   "source": [
    "plane = \"axial\"\n",
    "mri_slice = \"234\"\n",
    "mouse_x = 55\n",
    "mouse_y = 99"
   ]
  },
  {
   "cell_type": "code",
   "execution_count": 237,
   "metadata": {},
   "outputs": [],
   "source": [
    "npy_file = \"../react-ui/src/assets/P57-16/mri/indices_\" + plane + \"_C_order/slice_\" + str(mri_slice) + \".npy\""
   ]
  },
  {
   "cell_type": "code",
   "execution_count": 238,
   "metadata": {},
   "outputs": [
    {
     "name": "stdout",
     "output_type": "stream",
     "text": [
      "False\n",
      "(224, 448)\n"
     ]
    }
   ],
   "source": [
    "npy_slice_array = np.load(npy_file)\n",
    "\n",
    "print(np.isfortran(npy_slice_array))\n",
    "print(npy_slice_array.shape)\n",
    "#print(npy_slice_array[45])"
   ]
  },
  {
   "cell_type": "code",
   "execution_count": 239,
   "metadata": {},
   "outputs": [
    {
     "name": "stdout",
     "output_type": "stream",
     "text": [
      "24\n"
     ]
    }
   ],
   "source": [
    "# get the block number from the numpy array\n",
    "block = npy_slice_array[mouse_x][mouse_y]\n",
    "print(block)"
   ]
  },
  {
   "cell_type": "code",
   "execution_count": 240,
   "metadata": {},
   "outputs": [],
   "source": [
    "# define a vector to be used later (to get the histology coords)\n",
    "# an earlier version of this notebook did +1 to the mri_slice here, need to check if this is necessary.\n",
    "# need to find out the correct order of params when creating the vector (depending on the current plane)\n",
    "if block == 0:\n",
    "    print(\"block number is 0, no further calculations are necessary as there is no associated histology\")\n",
    "\n",
    "if plane == \"sagittal\":\n",
    "  mri_vector=np.array([float(mri_slice), float(mouse_y), float(mouse_x), 1.0])\n",
    "elif plane == \"coronal\":\n",
    "  mri_vector=np.array([float(mri_slice), float(mouse_y), float(mouse_x), 1.0])\n",
    "elif plane == \"axial\":\n",
    "  mri_vector=np.array([float(mouse_x), float(mouse_y), float(mri_slice), 1.0])"
   ]
  },
  {
   "cell_type": "code",
   "execution_count": 241,
   "metadata": {},
   "outputs": [],
   "source": [
    "# open the matrix txt file\n",
    "matrix_txt = open(\"../react-ui/src/assets/P57-16/mri/matrices/block_\" + str(block) + \".txt\")\n",
    "read_matrix_txt = matrix_txt.read()"
   ]
  },
  {
   "cell_type": "code",
   "execution_count": 242,
   "metadata": {},
   "outputs": [],
   "source": [
    "# parse the text file and convert it to an array\n",
    "matrix = read_matrix_txt.replace('\\n', ' ')\n",
    "matrix = matrix.split(\" \")\n",
    "matrix = matrix[:-1] # pops the last element in the array"
   ]
  },
  {
   "cell_type": "code",
   "execution_count": 243,
   "metadata": {},
   "outputs": [],
   "source": [
    "# convert the array of strings to an array of floats\n",
    "matrix_as_floats = []\n",
    "for item in matrix:\n",
    "    matrix_as_floats.append(float(item))"
   ]
  },
  {
   "cell_type": "code",
   "execution_count": 244,
   "metadata": {},
   "outputs": [
    {
     "name": "stdout",
     "output_type": "stream",
     "text": [
      "[[-1.125857611340117, 1.686454240867989, 3.4696816516182043, -287.01308726922], [3.850630863147196, 0.6743281705488938, 0.8487940354417981, -319.6798952728896], [-0.03634574078131531, 0.5848713016547116, -0.28018555453244887, 19.08382028482923], [0.0, 0.0, 0.0, 1.0]]\n"
     ]
    }
   ],
   "source": [
    "# divide matrix array into chuncks to form a multidimensional array\n",
    "def divide_chunks(l, n):\n",
    "    for i in range(0, len(l), n): \n",
    "        yield l[i:i + n]\n",
    "\n",
    "# how many elements should have\n",
    "n = 4\n",
    "  \n",
    "chunked_array = list(divide_chunks(matrix_as_floats, n))\n",
    "print(chunked_array)"
   ]
  },
  {
   "cell_type": "code",
   "execution_count": 245,
   "metadata": {},
   "outputs": [
    {
     "name": "stdout",
     "output_type": "stream",
     "text": [
      "[[-1.12585761e+00  1.68645424e+00  3.46968165e+00 -2.87013087e+02]\n",
      " [ 3.85063086e+00  6.74328171e-01  8.48794035e-01 -3.19679895e+02]\n",
      " [-3.63457408e-02  5.84871302e-01 -2.80185555e-01  1.90838203e+01]\n",
      " [ 0.00000000e+00  0.00000000e+00  0.00000000e+00  1.00000000e+00]]\n"
     ]
    }
   ],
   "source": [
    "transform = np.array(chunked_array)\n",
    "print(transform)"
   ]
  },
  {
   "cell_type": "code",
   "execution_count": 246,
   "metadata": {},
   "outputs": [],
   "source": [
    "blockvector = transform.dot(mri_vector)"
   ]
  },
  {
   "cell_type": "code",
   "execution_count": 247,
   "metadata": {},
   "outputs": [
    {
     "name": "stdout",
     "output_type": "stream",
     "text": [
      "[629.92922043 157.48109538   9.42364365   1.        ]\n"
     ]
    }
   ],
   "source": [
    "print(blockvector)"
   ]
  },
  {
   "cell_type": "code",
   "execution_count": null,
   "id": "continuing-culture",
   "metadata": {},
   "outputs": [],
   "source": [
    "# test_transform = np.array([[0.31385434307807203, -3.664457652247729, 1.6199030926177134, 666.0080271821023],\n",
    "# [-0.7744411837137424, 1.4870493065731998, 3.6535143658756977, -139.31333561581766],\n",
    "# [-1.2110952755381341, -0.18593341100766062, -0.1914204859080043, 118.27995513465419],\n",
    "# [0.0, 0.0, 0.0, 1.0]])"
   ]
  },
  {
   "cell_type": "code",
   "execution_count": 11,
   "id": "distributed-harvey",
   "metadata": {},
   "outputs": [],
   "source": [
    "histology = \"../react-ui/src/assets/P57-16/histology\"\n"
   ]
  },
  {
   "cell_type": "code",
   "execution_count": 12,
   "id": "worth-proxy",
   "metadata": {},
   "outputs": [
    {
     "name": "stdout",
     "output_type": "stream",
     "text": [
      "../react-ui/src/assets/P57-16/histology/25/slices_HE\n",
      "38\n"
     ]
    }
   ],
   "source": [
    "folder = os.path.join(histology,\"25\")\n",
    "slice_folder = os.path.join(folder,\"slices_HE\")\n",
    "if os.path.exists(slice_folder):\n",
    "    print(slice_folder)\n",
    "else:\n",
    "    print(\"the folder does not exist\")\n",
    "images = [name for name in os.listdir(slice_folder) if os.path.isfile(os.path.join(slice_folder, name))]\n",
    "print(len(images))\n",
    "image = None\n",
    "if len(images) > 0:\n",
    "    image = images[0]"
   ]
  },
  {
   "cell_type": "code",
   "execution_count": 13,
   "id": "crazy-webcam",
   "metadata": {},
   "outputs": [
    {
     "name": "stdout",
     "output_type": "stream",
     "text": [
      "(805, 552, 3)\n"
     ]
    }
   ],
   "source": [
    "if not image == None:\n",
    "    fullPath = os.path.join(slice_folder, image)\n",
    "    readImage = matlib.imread(fullPath)\n",
    "    print(readImage.shape)"
   ]
  },
  {
   "cell_type": "code",
   "execution_count": null,
   "id": "short-maria",
   "metadata": {},
   "outputs": [],
   "source": []
  }
 ],
 "metadata": {
  "kernelspec": {
   "display_name": "Python 3",
   "language": "python",
   "name": "python3"
  },
  "language_info": {
   "codemirror_mode": {
    "name": "ipython",
    "version": 3
   },
   "file_extension": ".py",
   "mimetype": "text/x-python",
   "name": "python",
   "nbconvert_exporter": "python",
   "pygments_lexer": "ipython3",
   "version": "3.7.9"
  }
 },
 "nbformat": 4,
 "nbformat_minor": 5
}
