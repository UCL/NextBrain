{
 "cells": [
  {
   "cell_type": "code",
   "execution_count": 28,
   "metadata": {},
   "outputs": [],
   "source": [
    "import numpy as np\n",
    "import os, os.path\n",
    "import matplotlib.image as matlib\n",
    "import json"
   ]
  },
  {
   "cell_type": "code",
   "execution_count": 98,
   "metadata": {},
   "outputs": [],
   "source": [
    "plane = \"axial\"\n",
    "mouse_x = 78\n",
    "mouse_y = 331\n",
    "axial_slice = '81'\n",
    "sagittal_slice = '322'\n",
    "coronal_slice = '150'"
   ]
  },
  {
   "cell_type": "code",
   "execution_count": 99,
   "metadata": {},
   "outputs": [],
   "source": [
    "npy_file = \"../react-ui/src/assets/P57-16_updated/mri_rotated/indices_\" + plane + \"/slice_\" + str(axial_slice) + \".npy\""
   ]
  },
  {
   "cell_type": "code",
   "execution_count": 100,
   "metadata": {},
   "outputs": [
    {
     "name": "stdout",
     "output_type": "stream",
     "text": [
      "False\n",
      "(450, 226)\n",
      "[ 0  0  0  0  0  0  0  0  0  0  0  0  0  0  0  0  0  0  0  0  0  0  0  0\n",
      "  0  0  0  0  1  1  1  1  1  1  1  1  1  1  1  1  1  1  1  1  1  1  1  1\n",
      "  1  1  1  1  1  1  1  1  1  1  1  1  1  1  1  1  1  1  1  1  1  1  1  1\n",
      "  1  1  1  1  1  1  1  1  1  1  1  1  1 44 44 44 44 44 44 44 44 44 44 44\n",
      " 44 44 44 44 44 44 44 44 44 44 44 44 44 44 44 44 44 44 44 44 44 44 44 44\n",
      " 44 44 44 44 44 44 44 44 44 44 44 44 44 44 44 44 44 44 44 44 44 44 44 44\n",
      " 44 44 44 44 44 44 44 44 44 44 44 44 44 44 44 44 44 44 44 44 44 44 44 44\n",
      " 44 44 44 44 44 44 44 44 44 44 44 44 44 44 44 44 44 44 44  0  0  0  0  0\n",
      "  0  0  0  0  0  0  0  0  0  0  0  0  0  0  0  0  0  0  0  0  0  0  0  0\n",
      "  0  0  0  0  0  0  0  0  0  0]\n"
     ]
    }
   ],
   "source": [
    "npy_slice_array = np.load(npy_file)\n",
    "\n",
    "print(np.isfortran(npy_slice_array))\n",
    "print(npy_slice_array.shape)\n",
    "print(npy_slice_array[300])\n",
    "#print(npy_slice_array)"
   ]
  },
  {
   "cell_type": "code",
   "execution_count": 103,
   "metadata": {},
   "outputs": [
    {
     "name": "stdout",
     "output_type": "stream",
     "text": [
      "21\n"
     ]
    }
   ],
   "source": [
    "# get the block number from the numpy array\n",
    "block = npy_slice_array[mouse_y][mouse_x]\n",
    "print(block)"
   ]
  },
  {
   "cell_type": "code",
   "execution_count": 69,
   "metadata": {},
   "outputs": [],
   "source": [
    "# define a vector to be used later (to get the histology coords)\n",
    "# an earlier version of this notebook did +1 to the mri_slice here, need to check if this is necessary.\n",
    "# need to find out the correct order of params when creating the vector (depending on the current plane)\n",
    "if block == 0:\n",
    "    print(\"block number is 0, no further calculations are necessary as there is no associated histology\")\n",
    "\n",
    "    \n",
    "#if plane == \"sagittal\":\n",
    "#  mri_vector=np.array([float(mri_slice), float(mouse_y), float(mouse_x), 1.0])\n",
    "#elif plane == \"coronal\":\n",
    "#  mri_vector=np.array([float(mri_slice), float(mouse_y), float(mouse_x), 1.0])\n",
    "#elif plane == \"axial\":\n",
    "#  mri_vector=np.array([float(mouse_x), float(mouse_y), float(mri_slice), 1.0])\n",
    "\n",
    "mri_vector = np.array([float(sagittal_slice), float(coronal_slice), float(axial_slice), 1.0])"
   ]
  },
  {
   "cell_type": "code",
   "execution_count": 54,
   "metadata": {},
   "outputs": [],
   "source": [
    "# open the matrix txt file\n",
    "matrix_txt = open(\"../react-ui/src/assets/P57-16_updated/mri_rotated/matrices/block_\" + str(block) + \".txt\")\n",
    "read_matrix_txt = matrix_txt.read()"
   ]
  },
  {
   "cell_type": "code",
   "execution_count": 55,
   "metadata": {},
   "outputs": [],
   "source": [
    "# parse the text file and convert it to an array\n",
    "matrix = read_matrix_txt.replace('\\n', ' ')\n",
    "matrix = matrix.split(\" \")\n",
    "matrix = matrix[:-1] # pops the last element in the array"
   ]
  },
  {
   "cell_type": "code",
   "execution_count": 56,
   "metadata": {},
   "outputs": [],
   "source": [
    "# convert the array of strings to an array of floats\n",
    "matrix_as_floats = []\n",
    "for item in matrix:\n",
    "    matrix_as_floats.append(float(item))"
   ]
  },
  {
   "cell_type": "code",
   "execution_count": 57,
   "metadata": {},
   "outputs": [
    {
     "name": "stdout",
     "output_type": "stream",
     "text": [
      "[[0.002849842303833207, -1.4686405030383833, -3.737254339395526, 1230.4328336585434], [3.9931236988629717, -0.18163689698379637, 0.07422514378423116, 123.96829658460723], [0.02615467613723934, 0.503366040657777, -0.19307029103843368, -34.53578918342316], [0.0, 0.0, 0.0, 1.0]]\n"
     ]
    }
   ],
   "source": [
    "# divide matrix array into chuncks to form a multidimensional array\n",
    "def divide_chunks(l, n):\n",
    "    for i in range(0, len(l), n): \n",
    "        yield l[i:i + n]\n",
    "\n",
    "# how many elements should have\n",
    "n = 4\n",
    "  \n",
    "chunked_array = list(divide_chunks(matrix_as_floats, n))\n",
    "print(chunked_array)"
   ]
  },
  {
   "cell_type": "code",
   "execution_count": 58,
   "metadata": {},
   "outputs": [
    {
     "name": "stdout",
     "output_type": "stream",
     "text": [
      "[[ 2.84984230e-03 -1.46864050e+00 -3.73725434e+00  1.23043283e+03]\n",
      " [ 3.99312370e+00 -1.81636897e-01  7.42251438e-02  1.23968297e+02]\n",
      " [ 2.61546761e-02  5.03366041e-01 -1.93070291e-01 -3.45357892e+01]\n",
      " [ 0.00000000e+00  0.00000000e+00  0.00000000e+00  1.00000000e+00]]\n"
     ]
    }
   ],
   "source": [
    "transform = np.array(chunked_array)\n",
    "print(transform)"
   ]
  },
  {
   "cell_type": "code",
   "execution_count": 59,
   "metadata": {},
   "outputs": [],
   "source": [
    "blockvector = transform.dot(mri_vector)"
   ]
  },
  {
   "cell_type": "code",
   "execution_count": 60,
   "metadata": {},
   "outputs": [
    {
     "name": "stdout",
     "output_type": "stream",
     "text": [
      "[ 91.98139612 384.48804555  99.80161336   1.        ]\n"
     ]
    }
   ],
   "source": [
    "print(blockvector)"
   ]
  },
  {
   "cell_type": "code",
   "execution_count": 61,
   "metadata": {},
   "outputs": [],
   "source": [
    "# test_transform = np.array([[0.31385434307807203, -3.664457652247729, 1.6199030926177134, 666.0080271821023],\n",
    "# [-0.7744411837137424, 1.4870493065731998, 3.6535143658756977, -139.31333561581766],\n",
    "# [-1.2110952755381341, -0.18593341100766062, -0.1914204859080043, 118.27995513465419],\n",
    "# [0.0, 0.0, 0.0, 1.0]])"
   ]
  },
  {
   "cell_type": "code",
   "execution_count": 62,
   "metadata": {},
   "outputs": [],
   "source": [
    "histology = \"../react-ui/src/assets/P57-16_updated/histology\"\n"
   ]
  },
  {
   "cell_type": "code",
   "execution_count": 63,
   "metadata": {},
   "outputs": [
    {
     "name": "stdout",
     "output_type": "stream",
     "text": [
      "../react-ui/src/assets/P57-16_updated/histology/01/slices_HE\n",
      "17\n"
     ]
    }
   ],
   "source": [
    "folder = os.path.join(histology,\"01\")\n",
    "slice_folder = os.path.join(folder,\"slices_HE\")\n",
    "if os.path.exists(slice_folder):\n",
    "    print(slice_folder)\n",
    "else:\n",
    "    print(\"the folder does not exist\")\n",
    "images = [name for name in os.listdir(slice_folder) if os.path.isfile(os.path.join(slice_folder, name))]\n",
    "print(len(images))\n",
    "image = None\n",
    "if len(images) > 0:\n",
    "    image = images[0]"
   ]
  },
  {
   "cell_type": "code",
   "execution_count": 64,
   "metadata": {},
   "outputs": [
    {
     "name": "stdout",
     "output_type": "stream",
     "text": [
      "(851, 626, 3)\n"
     ]
    }
   ],
   "source": [
    "if not image == None:\n",
    "    fullPath = os.path.join(slice_folder, image)\n",
    "    readImage = matlib.imread(fullPath)\n",
    "    print(readImage.shape)"
   ]
  },
  {
   "cell_type": "code",
   "execution_count": null,
   "metadata": {},
   "outputs": [],
   "source": []
  }
 ],
 "metadata": {
  "kernelspec": {
   "display_name": "Python 3",
   "language": "python",
   "name": "python3"
  },
  "language_info": {
   "codemirror_mode": {
    "name": "ipython",
    "version": 3
   },
   "file_extension": ".py",
   "mimetype": "text/x-python",
   "name": "python",
   "nbconvert_exporter": "python",
   "pygments_lexer": "ipython3",
   "version": "3.8.3"
  }
 },
 "nbformat": 4,
 "nbformat_minor": 5
}
