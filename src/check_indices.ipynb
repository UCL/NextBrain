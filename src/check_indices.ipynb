{
 "cells": [
  {
   "cell_type": "code",
   "execution_count": 122,
   "metadata": {},
   "outputs": [],
   "source": [
    "import numpy as np\n",
    "import os, os.path\n",
    "import matplotlib.image as matlib"
   ]
  },
  {
   "cell_type": "code",
   "execution_count": 123,
   "metadata": {},
   "outputs": [],
   "source": [
    "plane = \"axial\"\n",
    "mri_slice = \"145\"\n",
    "mouse_x = 222\n",
    "mouse_y = 90"
   ]
  },
  {
   "cell_type": "code",
   "execution_count": 124,
   "metadata": {},
   "outputs": [],
   "source": [
    "npy_file = \"../react-ui/src/assets/P57-16/mri/indices_\" + plane + \"/slice_\" + str(mri_slice) + \".npy\""
   ]
  },
  {
   "cell_type": "code",
   "execution_count": 125,
   "metadata": {},
   "outputs": [
    {
     "name": "stdout",
     "output_type": "stream",
     "text": [
      "True\n",
      "(224, 448)\n"
     ]
    }
   ],
   "source": [
    "npy_slice_array = np.load(npy_file)\n",
    "\n",
    "print(np.isfortran(npy_slice_array))\n",
    "print(npy_slice_array.shape)"
   ]
  },
  {
   "cell_type": "code",
   "execution_count": 126,
   "metadata": {},
   "outputs": [
    {
     "name": "stdout",
     "output_type": "stream",
     "text": [
      "0\n"
     ]
    }
   ],
   "source": [
    "# get the block number from the numpy array\n",
    "block = npy_slice_array[mouse_x][mouse_y]\n",
    "print(block)"
   ]
  },
  {
   "cell_type": "code",
   "execution_count": 131,
   "metadata": {},
   "outputs": [
    {
     "name": "stdout",
     "output_type": "stream",
     "text": [
      "block number is 0, no further calculations are necessary as there is no associated histology\n"
     ]
    }
   ],
   "source": [
    "# define a vector to be used later (to get the histology coords)\n",
    "# an earlier version of this notebook did +1 to the mri_slice here, need to check if this is necessary.\n",
    "# need to find out the correct order of params when creating the vector (depending on the current plane)\n",
    "if block == 0:\n",
    "    print(\"block number is 0, no further calculations are necessary as there is no associated histology\")\n",
    "\n",
    "if plane == \"sagittal\":\n",
    "  mri_vector=np.array([float(mri_slice), float(mouse_y), float(mouse_x), 1.0])\n",
    "elif plane == \"coronal\":\n",
    "  mri_vector=np.array([float(mri_slice), float(mouse_y), float(mouse_x), 1.0])\n",
    "elif plane == \"axial\":\n",
    "  mri_vector=np.array([float(mouse_x), float(mouse_y), float(mri_slice), 1.0])"
   ]
  },
  {
   "cell_type": "code",
   "execution_count": 128,
   "metadata": {},
   "outputs": [
    {
     "ename": "FileNotFoundError",
     "evalue": "[Errno 2] No such file or directory: '../react-ui/src/assets/P57-16/mri/matrices/block_0.txt'",
     "output_type": "error",
     "traceback": [
      "\u001b[0;31m---------------------------------------------------------------------------\u001b[0m",
      "\u001b[0;31mFileNotFoundError\u001b[0m                         Traceback (most recent call last)",
      "\u001b[0;32m<ipython-input-128-fe683afa5e64>\u001b[0m in \u001b[0;36m<module>\u001b[0;34m\u001b[0m\n\u001b[1;32m      1\u001b[0m \u001b[0;31m# open the matrix txt file\u001b[0m\u001b[0;34m\u001b[0m\u001b[0;34m\u001b[0m\u001b[0;34m\u001b[0m\u001b[0m\n\u001b[0;32m----> 2\u001b[0;31m \u001b[0mmatrix_txt\u001b[0m \u001b[0;34m=\u001b[0m \u001b[0mopen\u001b[0m\u001b[0;34m(\u001b[0m\u001b[0;34m\"../react-ui/src/assets/P57-16/mri/matrices/block_\"\u001b[0m \u001b[0;34m+\u001b[0m \u001b[0mstr\u001b[0m\u001b[0;34m(\u001b[0m\u001b[0mblock\u001b[0m\u001b[0;34m)\u001b[0m \u001b[0;34m+\u001b[0m \u001b[0;34m\".txt\"\u001b[0m\u001b[0;34m)\u001b[0m\u001b[0;34m\u001b[0m\u001b[0;34m\u001b[0m\u001b[0m\n\u001b[0m\u001b[1;32m      3\u001b[0m \u001b[0mread_matrix_txt\u001b[0m \u001b[0;34m=\u001b[0m \u001b[0mmatrix_txt\u001b[0m\u001b[0;34m.\u001b[0m\u001b[0mread\u001b[0m\u001b[0;34m(\u001b[0m\u001b[0;34m)\u001b[0m\u001b[0;34m\u001b[0m\u001b[0;34m\u001b[0m\u001b[0m\n",
      "\u001b[0;31mFileNotFoundError\u001b[0m: [Errno 2] No such file or directory: '../react-ui/src/assets/P57-16/mri/matrices/block_0.txt'"
     ]
    }
   ],
   "source": [
    "# open the matrix txt file\n",
    "matrix_txt = open(\"../react-ui/src/assets/P57-16/mri/matrices/block_\" + str(block) + \".txt\")\n",
    "read_matrix_txt = matrix_txt.read()"
   ]
  },
  {
   "cell_type": "code",
   "execution_count": 129,
   "metadata": {},
   "outputs": [],
   "source": [
    "# parse the text file and convert it to an array\n",
    "matrix = read_matrix_txt.replace('\\n', ' ')\n",
    "matrix = matrix.split(\" \")\n",
    "matrix = matrix[:-1] # pops the last element in the array"
   ]
  },
  {
   "cell_type": "code",
   "execution_count": 112,
   "metadata": {},
   "outputs": [],
   "source": [
    "# convert the array of strings to an array of floats\n",
    "matrix_as_floats = []\n",
    "for item in matrix:\n",
    "    matrix_as_floats.append(float(item))"
   ]
  },
  {
   "cell_type": "code",
   "execution_count": 113,
   "metadata": {},
   "outputs": [
    {
     "name": "stdout",
     "output_type": "stream",
     "text": [
      "[[3.9918815921927324, 0.14203936785714244, 0.2353534993986506, -95.3126553016657], [0.16442745659295432, -1.3162776492428165, -3.803865995716457, 969.8247167526811], [-0.0112355845778312, 0.55207262125821, -0.23935829358640404, -4.480988935563403], [0.0, 0.0, 0.0, 1.0]]\n"
     ]
    }
   ],
   "source": [
    "# divide matrix array into chuncks to form a multidimensional array\n",
    "def divide_chunks(l, n):\n",
    "    for i in range(0, len(l), n): \n",
    "        yield l[i:i + n]\n",
    "\n",
    "# how many elements should have\n",
    "n = 4\n",
    "  \n",
    "chunked_array = list(divide_chunks(matrix_as_floats, n))\n",
    "print(chunked_array)"
   ]
  },
  {
   "cell_type": "code",
   "execution_count": 114,
   "metadata": {},
   "outputs": [
    {
     "name": "stdout",
     "output_type": "stream",
     "text": [
      "[[ 3.99188159e+00  1.42039368e-01  2.35353499e-01 -9.53126553e+01]\n",
      " [ 1.64427457e-01 -1.31627765e+00 -3.80386600e+00  9.69824717e+02]\n",
      " [-1.12355846e-02  5.52072621e-01 -2.39358294e-01 -4.48098894e+00]\n",
      " [ 0.00000000e+00  0.00000000e+00  0.00000000e+00  1.00000000e+00]]\n"
     ]
    }
   ],
   "source": [
    "transform = np.array(chunked_array)\n",
    "print(transform)"
   ]
  },
  {
   "cell_type": "code",
   "execution_count": 115,
   "metadata": {},
   "outputs": [],
   "source": [
    "blockvector = transform.dot(mri_vector)"
   ]
  },
  {
   "cell_type": "code",
   "execution_count": 116,
   "metadata": {},
   "outputs": [
    {
     "name": "stdout",
     "output_type": "stream",
     "text": [
      "[273.66119988 324.96428177   4.61985847   1.        ]\n"
     ]
    }
   ],
   "source": [
    "print(blockvector)"
   ]
  },
  {
   "cell_type": "code",
   "execution_count": null,
   "metadata": {},
   "outputs": [],
   "source": [
    "# test_transform = np.array([[0.31385434307807203, -3.664457652247729, 1.6199030926177134, 666.0080271821023],\n",
    "# [-0.7744411837137424, 1.4870493065731998, 3.6535143658756977, -139.31333561581766],\n",
    "# [-1.2110952755381341, -0.18593341100766062, -0.1914204859080043, 118.27995513465419],\n",
    "# [0.0, 0.0, 0.0, 1.0]])"
   ]
  },
  {
   "cell_type": "code",
   "execution_count": 11,
   "metadata": {},
   "outputs": [],
   "source": [
    "histology = \"../react-ui/src/assets/P57-16/histology\"\n"
   ]
  },
  {
   "cell_type": "code",
   "execution_count": 12,
   "metadata": {},
   "outputs": [
    {
     "name": "stdout",
     "output_type": "stream",
     "text": [
      "../react-ui/src/assets/P57-16/histology/25/slices_HE\n",
      "38\n"
     ]
    }
   ],
   "source": [
    "folder = os.path.join(histology,\"25\")\n",
    "slice_folder = os.path.join(folder,\"slices_HE\")\n",
    "if os.path.exists(slice_folder):\n",
    "    print(slice_folder)\n",
    "else:\n",
    "    print(\"the folder does not exist\")\n",
    "images = [name for name in os.listdir(slice_folder) if os.path.isfile(os.path.join(slice_folder, name))]\n",
    "print(len(images))\n",
    "image = None\n",
    "if len(images) > 0:\n",
    "    image = images[0]"
   ]
  },
  {
   "cell_type": "code",
   "execution_count": 13,
   "metadata": {},
   "outputs": [
    {
     "name": "stdout",
     "output_type": "stream",
     "text": [
      "(805, 552, 3)\n"
     ]
    }
   ],
   "source": [
    "if not image == None:\n",
    "    fullPath = os.path.join(slice_folder, image)\n",
    "    readImage = matlib.imread(fullPath)\n",
    "    print(readImage.shape)"
   ]
  },
  {
   "cell_type": "code",
   "execution_count": null,
   "metadata": {},
   "outputs": [],
   "source": []
  }
 ],
 "metadata": {
  "kernelspec": {
   "display_name": "Python 3",
   "language": "python",
   "name": "python3"
  },
  "language_info": {
   "codemirror_mode": {
    "name": "ipython",
    "version": 3
   },
   "file_extension": ".py",
   "mimetype": "text/x-python",
   "name": "python",
   "nbconvert_exporter": "python",
   "pygments_lexer": "ipython3",
   "version": "3.8.3"
  }
 },
 "nbformat": 4,
 "nbformat_minor": 5
}
