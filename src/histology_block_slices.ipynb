{
 "cells": [
  {
   "cell_type": "code",
   "execution_count": 34,
   "metadata": {},
   "outputs": [],
   "source": [
    "import numpy as np\n",
    "import os, os.path\n",
    "import matplotlib.image as matlib\n",
    "import json"
   ]
  },
  {
   "cell_type": "code",
   "execution_count": 35,
   "metadata": {},
   "outputs": [],
   "source": [
    "# this script builds a json map of the number of slices and image dimensions in each histology block"
   ]
  },
  {
   "cell_type": "code",
   "execution_count": 36,
   "metadata": {},
   "outputs": [],
   "source": [
    "histology = \"../react-ui/src/assets/P57-16_updated/histology\""
   ]
  },
  {
   "cell_type": "code",
   "execution_count": 38,
   "metadata": {},
   "outputs": [
    {
     "name": "stdout",
     "output_type": "stream",
     "text": [
      "../react-ui/src/assets/P57-16_updated/histology/01/slices_HE\n",
      "../react-ui/src/assets/P57-16_updated/histology/02/slices_HE\n",
      "../react-ui/src/assets/P57-16_updated/histology/03/slices_HE\n",
      "../react-ui/src/assets/P57-16_updated/histology/04/slices_HE\n",
      "../react-ui/src/assets/P57-16_updated/histology/05/slices_HE\n",
      "../react-ui/src/assets/P57-16_updated/histology/06/slices_HE\n",
      "../react-ui/src/assets/P57-16_updated/histology/07/slices_HE\n",
      "../react-ui/src/assets/P57-16_updated/histology/08/slices_HE\n",
      "../react-ui/src/assets/P57-16_updated/histology/09/slices_HE\n",
      "../react-ui/src/assets/P57-16_updated/histology/10/slices_HE\n",
      "../react-ui/src/assets/P57-16_updated/histology/11/slices_HE\n",
      "../react-ui/src/assets/P57-16_updated/histology/12/slices_HE\n",
      "../react-ui/src/assets/P57-16_updated/histology/13/slices_HE\n",
      "../react-ui/src/assets/P57-16_updated/histology/14/slices_HE\n",
      "../react-ui/src/assets/P57-16_updated/histology/15/slices_HE\n",
      "../react-ui/src/assets/P57-16_updated/histology/16/slices_HE\n",
      "../react-ui/src/assets/P57-16_updated/histology/17/slices_HE\n",
      "../react-ui/src/assets/P57-16_updated/histology/18/slices_HE\n",
      "../react-ui/src/assets/P57-16_updated/histology/19/slices_HE\n",
      "../react-ui/src/assets/P57-16_updated/histology/20/slices_HE\n",
      "../react-ui/src/assets/P57-16_updated/histology/21/slices_HE\n",
      "../react-ui/src/assets/P57-16_updated/histology/22/slices_HE\n",
      "../react-ui/src/assets/P57-16_updated/histology/23/slices_HE\n",
      "../react-ui/src/assets/P57-16_updated/histology/24/slices_HE\n",
      "../react-ui/src/assets/P57-16_updated/histology/25/slices_HE\n",
      "../react-ui/src/assets/P57-16_updated/histology/26/slices_HE\n",
      "../react-ui/src/assets/P57-16_updated/histology/27/slices_HE\n",
      "../react-ui/src/assets/P57-16_updated/histology/28/slices_HE\n",
      "../react-ui/src/assets/P57-16_updated/histology/29/slices_HE\n",
      "../react-ui/src/assets/P57-16_updated/histology/30/slices_HE\n",
      "../react-ui/src/assets/P57-16_updated/histology/31/slices_HE\n",
      "../react-ui/src/assets/P57-16_updated/histology/32/slices_HE\n",
      "../react-ui/src/assets/P57-16_updated/histology/33/slices_HE\n",
      "../react-ui/src/assets/P57-16_updated/histology/34/slices_HE\n",
      "../react-ui/src/assets/P57-16_updated/histology/35/slices_HE\n",
      "../react-ui/src/assets/P57-16_updated/histology/36/slices_HE\n",
      "../react-ui/src/assets/P57-16_updated/histology/37/slices_HE\n",
      "../react-ui/src/assets/P57-16_updated/histology/38/slices_HE\n",
      "../react-ui/src/assets/P57-16_updated/histology/39/slices_HE\n",
      "../react-ui/src/assets/P57-16_updated/histology/40/slices_HE\n",
      "../react-ui/src/assets/P57-16_updated/histology/41/slices_HE\n",
      "../react-ui/src/assets/P57-16_updated/histology/42/slices_HE\n",
      "../react-ui/src/assets/P57-16_updated/histology/43/slices_HE\n",
      "../react-ui/src/assets/P57-16_updated/histology/44/slices_HE\n",
      "../react-ui/src/assets/P57-16_updated/histology/45/slices_HE\n"
     ]
    }
   ],
   "source": [
    "data = {}\n",
    "\n",
    "# 45 histology blocks in total, loop starts at 0\n",
    "for x in range(46):\n",
    "  if x == 0:\n",
    "    continue\n",
    "    \n",
    "  block_number = str(x)  \n",
    "  block_number = block_number.zfill(2)\n",
    "\n",
    "  folder = os.path.join(histology, block_number)\n",
    "  slice_folder = os.path.join(folder,\"slices_HE\")\n",
    "  if os.path.exists(slice_folder):\n",
    "      print(slice_folder)\n",
    "  else:\n",
    "      print(\"the folder does not exist\")\n",
    "  images = [name for name in os.listdir(slice_folder) if os.path.isfile(os.path.join(slice_folder, name))]\n",
    "  #print(len(images))\n",
    "  image = None\n",
    "  if len(images) > 0:\n",
    "      image = images[0]\n",
    "  \n",
    "  if not image == None:\n",
    "    fullPath = os.path.join(slice_folder, image)\n",
    "    readImage = matlib.imread(fullPath)\n",
    "    #print(readImage.shape)\n",
    "    \n",
    "  data[x] = {\n",
    "      'width': readImage.shape[1],\n",
    "      'height': readImage.shape[0],\n",
    "      'slices': len(images)\n",
    "  }  \n",
    "    \n",
    "  "
   ]
  },
  {
   "cell_type": "code",
   "execution_count": 39,
   "metadata": {},
   "outputs": [],
   "source": [
    "# print(data)\n",
    "\n",
    "with open('histology_slices.json', 'w') as outfile:\n",
    "    json.dump(data, outfile)"
   ]
  },
  {
   "cell_type": "code",
   "execution_count": null,
   "metadata": {},
   "outputs": [],
   "source": []
  },
  {
   "cell_type": "code",
   "execution_count": 17,
   "metadata": {},
   "outputs": [],
   "source": [
    "# exploring the block_slices.npy file\n",
    "# not currently sure how to access the data, so I make my own json file instead (see above)\n",
    "histology_map_file = \"../react-ui/src/assets/P57-16_updated/block_slices.npy\""
   ]
  },
  {
   "cell_type": "code",
   "execution_count": 18,
   "metadata": {},
   "outputs": [
    {
     "name": "stdout",
     "output_type": "stream",
     "text": [
      "[ 0.  0.  0.  0.  0.  0.  0.  0.  0.  0.  0.  0.  0.  0.  0.  0.  0.  0.\n",
      "  0.  0.  0.  0.  0.  0.  0.  0.  0.  0.  0.  0.  0.  0.  0.  0.  0.  0.\n",
      "  0.  0.  0.  0.  0.  0.  0.  0.  0. 39.]\n"
     ]
    }
   ],
   "source": [
    "histology_map_array = np.load(histology_map_file)\n",
    "\n",
    "print(histology_map_array)"
   ]
  },
  {
   "cell_type": "code",
   "execution_count": 19,
   "metadata": {},
   "outputs": [
    {
     "name": "stdout",
     "output_type": "stream",
     "text": [
      "0.0\n"
     ]
    }
   ],
   "source": [
    "no_of_slices = histology_map_array[1]\n",
    "print(no_of_slices)"
   ]
  },
  {
   "cell_type": "code",
   "execution_count": null,
   "metadata": {},
   "outputs": [],
   "source": []
  }
 ],
 "metadata": {
  "kernelspec": {
   "display_name": "Python 3",
   "language": "python",
   "name": "python3"
  },
  "language_info": {
   "codemirror_mode": {
    "name": "ipython",
    "version": 3
   },
   "file_extension": ".py",
   "mimetype": "text/x-python",
   "name": "python",
   "nbconvert_exporter": "python",
   "pygments_lexer": "ipython3",
   "version": "3.8.3"
  }
 },
 "nbformat": 4,
 "nbformat_minor": 5
}
