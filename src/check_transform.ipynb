{
 "cells": [
  {
   "cell_type": "code",
   "execution_count": 42,
   "metadata": {},
   "outputs": [],
   "source": [
    "import numpy as np\n",
    "import matplotlib.image as matlib\n",
    "import sys\n",
    "import os, os.path"
   ]
  },
  {
   "cell_type": "code",
   "execution_count": 43,
   "metadata": {},
   "outputs": [],
   "source": [
    "histology = \"/Users/peterschmidt/brainatlas/images/P57-16/histology\"\n",
    "mri_indices = \"/Users/peterschmidt/brainatlas/images/P57-16/mri/indices_axial\"\n",
    "mri_matrices = \"/Users/peterschmidt/brainatlas/images/P57-16/mri/matrices\"\n",
    "slice_dir = \"slices_HE\"\n",
    "matrix = \"block_\""
   ]
  },
  {
   "cell_type": "code",
   "execution_count": 44,
   "metadata": {},
   "outputs": [],
   "source": [
    "class Histology:\n",
    "    \n",
    "    def __init__(self):\n",
    "        self._images = 0\n",
    "        self.x = 0\n",
    "        self.y = 0\n",
    "        self.z = 0\n",
    "        self.matrix = None\n",
    "        \n",
    "    def parseBlockFolder(self, block_name):\n",
    "        folder = os.path.join(histology, block_name)\n",
    "        slice_folder = os.path.join(folder,\"slices_HE\")\n",
    "        if not os.path.exists(slice_folder):\n",
    "            print(\"we couldn't find {}\".format(slice_folder))\n",
    "            return\n",
    "        images = [name for name in os.listdir(slice_folder) if os.path.isfile(os.path.join(slice_folder, name))]\n",
    "        count = len(images)\n",
    "#        print(\"found {} images in folder {}\".format(count, slice_folder))\n",
    "        self._images = count\n",
    "        if count > 0:\n",
    "            firstImage = images[0]\n",
    "            fullpath = os.path.join(slice_folder, firstImage)\n",
    "            fullimage = matlib.imread(fullpath)\n",
    "            self.x,self.y,rgb = fullimage.shape\n",
    "#            print(\"x = {}, y = {}, rgb = {}\".format(x,y,rgb))\n",
    "        \n",
    "        \n",
    "        try:\n",
    "            self.z = int(block_name)\n",
    "#            print(self._z)\n",
    "        except ValueError:\n",
    "            self.z = 0\n",
    "        \n",
    "        self._getTransformationMatrix(block_name)\n",
    "        \n",
    "    def _getTransformationMatrix(self, block_name):\n",
    "        if block_name == \"\" or block_name == \"0\":\n",
    "            return\n",
    "        matrix_name = matrix + block_name + \".txt\"\n",
    "        filepath = os.path.join(mri_matrices,matrix_name)\n",
    "        self.matrix = np.loadtxt(filepath, delimiter=\" \")\n",
    " #       print(self._matrix)\n",
    "        \n",
    "        "
   ]
  },
  {
   "cell_type": "code",
   "execution_count": 45,
   "metadata": {},
   "outputs": [],
   "source": [
    "histBlock = Histology()\n",
    "histBlock.parseBlockFolder(\"25\")"
   ]
  },
  {
   "cell_type": "code",
   "execution_count": 46,
   "metadata": {},
   "outputs": [],
   "source": [
    "def collect_histology_data():\n",
    "    block_list = []\n",
    "    blocks = [name for name in os.listdir(histology) if os.path.isdir(os.path.join(histology, name))]\n",
    "    for block in blocks:\n",
    "        hist_block = Histology()\n",
    "        hist_block.parseBlockFolder(block)\n",
    "        block_list.append(hist_block)\n",
    "    return block_list\n",
    "\n"
   ]
  },
  {
   "cell_type": "code",
   "execution_count": 52,
   "metadata": {},
   "outputs": [],
   "source": [
    "hist_blocks = collect_histology_data()"
   ]
  },
  {
   "cell_type": "code",
   "execution_count": 55,
   "metadata": {},
   "outputs": [],
   "source": [
    "def checkConsistency(block, vector):\n",
    "    if block >= len(hist_blocks):\n",
    "        print(\"there is an inconsistency between a found block ID {} and the number of blocks {} in histology\".format(block, len(hist_blocks)))\n",
    "        return false\n",
    "    \n",
    "    histo_data = hist_blocks[block]\n",
    "    trafo = histo_data.matrix\n",
    "    if trafo == None:\n",
    "        print(\"We do not have a valid transformation matrix\")\n",
    "        return false\n",
    "    \n",
    "    hist_coordinates = trafo.dot(vector)\n",
    "    x = math.floor(hist_coordinates[0])\n",
    "    y = math.floor(hist_coordinates[1])\n",
    "    z = math.floor(hist_coordinates[2])\n",
    "    \n",
    "    if histo_data.x >= x and histo_data.y >= y and histo_data.z >= z:\n",
    "        return true\n",
    "    else:\n",
    "        print(\"[x,y,z] are inconsistent: x_h={} x={}, y_h={}, y={}, z_h={}, z={}\".format(histo_data.x,x,histo_data.y,y,histo_data.z,z))\n",
    "        return false\n",
    "\n",
    "\n",
    "def parseNPYFiles():\n",
    "    axial_slices = [name for name in os.listdir(mri_indices) if os.path.isfile(os.path.join(mri_indices, name))]\n",
    "    z = 0\n",
    "    for slice in axial_slices:\n",
    "        current_block = 0\n",
    "        found_block = 0\n",
    "        pathname = os.path.join(mri_indices, slice)\n",
    "        numpyarray = np.load(pathname)\n",
    "        for x in numpyarray:\n",
    "            for y in x:\n",
    "                current_block = numpyarray[x,y]\n",
    "                if np.any(current_block > 0) and found_block != current_block:\n",
    "                    found_block = current_block\n",
    "                    vector = np.array([x,y,z])\n",
    "                    checkConsistency(current_block, vector)\n",
    "        z = z + 1\n",
    "    \n",
    "\n",
    "    "
   ]
  },
  {
   "cell_type": "code",
   "execution_count": 56,
   "metadata": {},
   "outputs": [],
   "source": [
    "parseNPYFiles()"
   ]
  },
  {
   "cell_type": "code",
   "execution_count": null,
   "metadata": {},
   "outputs": [],
   "source": []
  }
 ],
 "metadata": {
  "kernelspec": {
   "display_name": "Python 3",
   "language": "python",
   "name": "python3"
  },
  "language_info": {
   "codemirror_mode": {
    "name": "ipython",
    "version": 3
   },
   "file_extension": ".py",
   "mimetype": "text/x-python",
   "name": "python",
   "nbconvert_exporter": "python",
   "pygments_lexer": "ipython3",
   "version": "3.8.3"
  }
 },
 "nbformat": 4,
 "nbformat_minor": 5
}
