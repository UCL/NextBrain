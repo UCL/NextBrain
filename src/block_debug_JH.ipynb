{
 "cells": [
  {
   "cell_type": "code",
   "execution_count": 4,
   "metadata": {},
   "outputs": [],
   "source": [
    "import numpy as np\n",
    "import os, os.path\n",
    "import matplotlib.image as matlib\n",
    "\n",
    "import sys\n",
    "np.set_printoptions(threshold=sys.maxsize)"
   ]
  },
  {
   "cell_type": "code",
   "execution_count": 1741,
   "metadata": {},
   "outputs": [],
   "source": [
    "x = 131\n",
    "y = 192\n",
    "z = 138"
   ]
  },
  {
   "cell_type": "code",
   "execution_count": 1742,
   "metadata": {},
   "outputs": [],
   "source": [
    "slice_axial = \"../react-ui/src/assets/P57-16/mri_rotated/slices_sagittal/slice_\" + str(z) + \".png\""
   ]
  },
  {
   "cell_type": "code",
   "execution_count": 1743,
   "metadata": {},
   "outputs": [],
   "source": [
    "#img = matlib.imread(slice_axial)"
   ]
  },
  {
   "cell_type": "code",
   "execution_count": 1744,
   "metadata": {},
   "outputs": [],
   "source": [
    "npy_axial = \"../react-ui/src/assets/P57-16/mri_rotated/indices_sagittal/slice_\" + str(z) + \".npy\"\n",
    "npy_array = np.load(npy_axial)"
   ]
  },
  {
   "cell_type": "code",
   "execution_count": null,
   "metadata": {},
   "outputs": [],
   "source": []
  },
  {
   "cell_type": "code",
   "execution_count": 1745,
   "metadata": {},
   "outputs": [
    {
     "name": "stdout",
     "output_type": "stream",
     "text": [
      "False\n",
      "(362, 450)\n",
      "value2 = 14\n"
     ]
    }
   ],
   "source": [
    "print(np.isfortran(npy_array))\n",
    "print(npy_array.shape)\n",
    "value2 = npy_array[x,y]\n",
    "print('value2 = {}'.format(value2))"
   ]
  },
  {
   "cell_type": "code",
   "execution_count": 1746,
   "metadata": {},
   "outputs": [
    {
     "name": "stdout",
     "output_type": "stream",
     "text": [
      "[180.5 224.5]\n"
     ]
    }
   ],
   "source": [
    "'''\n",
    "image rotation\n",
    "'''\n",
    "center =  (np.array(npy_array.shape) - 1)/2\n",
    "print(center)"
   ]
  },
  {
   "cell_type": "code",
   "execution_count": 1747,
   "metadata": {},
   "outputs": [
    {
     "name": "stdout",
     "output_type": "stream",
     "text": [
      "257\n",
      "230\n"
     ]
    }
   ],
   "source": [
    "x_rot = (-y + 2 * center[1]).astype('int')\n",
    "y_rot = (2*center[0] - x).astype('int')\n",
    "\n",
    "print(x_rot)\n",
    "print(y_rot)"
   ]
  },
  {
   "cell_type": "code",
   "execution_count": 1748,
   "metadata": {},
   "outputs": [],
   "source": [
    "# sagittal has been flipped horizontally, so need to adjust the npy array (other planes do not need to be flipped)\n",
    "npy_array_flipped = np.fliplr(npy_array)"
   ]
  },
  {
   "cell_type": "code",
   "execution_count": 1749,
   "metadata": {},
   "outputs": [
    {
     "name": "stdout",
     "output_type": "stream",
     "text": [
      "value for rotated coordinates = 31\n"
     ]
    }
   ],
   "source": [
    "v_rot_1 = npy_array[y_rot, x_rot]\n",
    "print('value for rotated coordinates = {}'.format(v_rot_1))"
   ]
  },
  {
   "cell_type": "code",
   "execution_count": null,
   "metadata": {},
   "outputs": [],
   "source": []
  },
  {
   "cell_type": "code",
   "execution_count": 1750,
   "metadata": {},
   "outputs": [
    {
     "name": "stdout",
     "output_type": "stream",
     "text": [
      "True\n",
      "(450, 362)\n",
      "44\n"
     ]
    }
   ],
   "source": [
    "npy_arrayT = np.transpose(npy_array)\n",
    "\n",
    "print(np.isfortran(npy_arrayT))\n",
    "print(npy_arrayT.shape)\n",
    "print(npy_arrayT[x][y])"
   ]
  },
  {
   "cell_type": "code",
   "execution_count": 1751,
   "metadata": {},
   "outputs": [
    {
     "name": "stdout",
     "output_type": "stream",
     "text": [
      "False\n",
      "(450, 362)\n",
      "21\n"
     ]
    }
   ],
   "source": [
    "npy_arrayT_flipped = np.fliplr(npy_arrayT)\n",
    "\n",
    "print(np.isfortran(npy_arrayT_flipped))\n",
    "print(npy_arrayT_flipped.shape)\n",
    "print(npy_arrayT_flipped[x][y])"
   ]
  },
  {
   "cell_type": "code",
   "execution_count": null,
   "metadata": {},
   "outputs": [],
   "source": []
  },
  {
   "cell_type": "code",
   "execution_count": 1606,
   "metadata": {},
   "outputs": [],
   "source": [
    "rng = np.random.default_rng()\n",
    "x = np.arange(0, 25).reshape(5, 5)"
   ]
  },
  {
   "cell_type": "code",
   "execution_count": 1608,
   "metadata": {},
   "outputs": [
    {
     "name": "stdout",
     "output_type": "stream",
     "text": [
      "False\n",
      "(5, 5)\n"
     ]
    },
    {
     "data": {
      "text/plain": [
       "array([[ 4,  3,  2,  1,  0],\n",
       "       [ 9,  8,  7,  6,  5],\n",
       "       [14, 13, 12, 11, 10],\n",
       "       [19, 18, 17, 16, 15],\n",
       "       [24, 23, 22, 21, 20]])"
      ]
     },
     "execution_count": 1608,
     "metadata": {},
     "output_type": "execute_result"
    }
   ],
   "source": [
    "x = np.fliplr(x)\n",
    "\n",
    "print(np.isfortran(x))\n",
    "print(x.shape)\n",
    "x"
   ]
  },
  {
   "cell_type": "code",
   "execution_count": 1605,
   "metadata": {},
   "outputs": [
    {
     "data": {
      "text/plain": [
       "17"
      ]
     },
     "execution_count": 1605,
     "metadata": {},
     "output_type": "execute_result"
    }
   ],
   "source": [
    "x[3,2]"
   ]
  },
  {
   "cell_type": "code",
   "execution_count": 1333,
   "metadata": {},
   "outputs": [],
   "source": [
    "#np.save('test1', x)"
   ]
  },
  {
   "cell_type": "code",
   "execution_count": 1335,
   "metadata": {},
   "outputs": [
    {
     "name": "stdout",
     "output_type": "stream",
     "text": [
      "True\n",
      "(5, 5)\n"
     ]
    },
    {
     "data": {
      "text/plain": [
       "array([[ 0,  5, 10, 15, 20],\n",
       "       [ 1,  6, 11, 16, 21],\n",
       "       [ 2,  7, 12, 17, 22],\n",
       "       [ 3,  8, 13, 18, 23],\n",
       "       [ 4,  9, 14, 19, 24]])"
      ]
     },
     "execution_count": 1335,
     "metadata": {},
     "output_type": "execute_result"
    }
   ],
   "source": [
    "xT = np.transpose(x)\n",
    "#xT = np.swapaxes(npy_array, 1, 0)\n",
    "\n",
    "\n",
    "print(np.isfortran(xT))\n",
    "print(xT.shape)\n",
    "xT"
   ]
  },
  {
   "cell_type": "code",
   "execution_count": 2,
   "metadata": {},
   "outputs": [
    {
     "ename": "NameError",
     "evalue": "name 'xT' is not defined",
     "output_type": "error",
     "traceback": [
      "\u001b[0;31m---------------------------------------------------------------------------\u001b[0m",
      "\u001b[0;31mNameError\u001b[0m                                 Traceback (most recent call last)",
      "\u001b[0;32m<ipython-input-2-73ee3ee0ca8e>\u001b[0m in \u001b[0;36m<module>\u001b[0;34m\u001b[0m\n\u001b[0;32m----> 1\u001b[0;31m \u001b[0mxT\u001b[0m\u001b[0;34m[\u001b[0m\u001b[0;36m1\u001b[0m\u001b[0;34m,\u001b[0m\u001b[0;36m2\u001b[0m\u001b[0;34m]\u001b[0m\u001b[0;34m\u001b[0m\u001b[0;34m\u001b[0m\u001b[0m\n\u001b[0m",
      "\u001b[0;31mNameError\u001b[0m: name 'xT' is not defined"
     ]
    }
   ],
   "source": [
    "xT[1,2]"
   ]
  },
  {
   "cell_type": "code",
   "execution_count": null,
   "metadata": {},
   "outputs": [],
   "source": []
  },
  {
   "cell_type": "code",
   "execution_count": 6,
   "metadata": {},
   "outputs": [],
   "source": [
    "npy_file = \"../../brainAtlas-P57-16/P57-16_updated/block_slices.npy\"\n",
    "npy_array = np.load(npy_file)"
   ]
  },
  {
   "cell_type": "code",
   "execution_count": 8,
   "metadata": {},
   "outputs": [
    {
     "name": "stdout",
     "output_type": "stream",
     "text": [
      "False\n",
      "(46,)\n",
      "[ 0. 17. 18. 18. 19. 35. 17. 39. 18. 40. 19. 23. 20. 41. 18. 22. 38. 17.\n",
      " 18. 17. 18. 17. 17. 18. 19. 38. 21. 21. 36. 17. 16. 17. 18. 36. 39. 19.\n",
      " 19. 36. 17. 20.  9. 36. 18. 18. 18. 39.]\n"
     ]
    }
   ],
   "source": [
    "print(np.isfortran(npy_array))\n",
    "print(npy_array.shape)\n",
    "print(npy_array)\n",
    "\n",
    "point = npy_array[10]\n"
   ]
  },
  {
   "cell_type": "code",
   "execution_count": null,
   "metadata": {},
   "outputs": [],
   "source": []
  }
 ],
 "metadata": {
  "kernelspec": {
   "display_name": "Python 3",
   "language": "python",
   "name": "python3"
  },
  "language_info": {
   "codemirror_mode": {
    "name": "ipython",
    "version": 3
   },
   "file_extension": ".py",
   "mimetype": "text/x-python",
   "name": "python",
   "nbconvert_exporter": "python",
   "pygments_lexer": "ipython3",
   "version": "3.8.3"
  }
 },
 "nbformat": 4,
 "nbformat_minor": 5
}
